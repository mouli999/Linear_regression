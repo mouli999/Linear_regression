{
  "nbformat": 4,
  "nbformat_minor": 0,
  "metadata": {
    "colab": {
      "provenance": [],
      "toc_visible": true,
      "collapsed_sections": [
        "3bxyK84wUzv0"
      ]
    },
    "kernelspec": {
      "name": "python3",
      "display_name": "Python 3"
    },
    "language_info": {
      "name": "python"
    }
  },
  "cells": [
    {
      "cell_type": "code",
      "execution_count": 179,
      "metadata": {
        "id": "nE4ysDmBJLYB"
      },
      "outputs": [],
      "source": [
        "import pandas as pd\n",
        "import numpy as np"
      ]
    },
    {
      "cell_type": "code",
      "source": [
        "df=pd.read_excel('/content/drive/MyDrive/Colab Notebooks/DS & ML/Projects/8.jambore/Jambore.xlsx')\n",
        "df"
      ],
      "metadata": {
        "colab": {
          "base_uri": "https://localhost:8080/",
          "height": 424
        },
        "id": "vmBwhQ9qKBxv",
        "outputId": "a230a0e4-660a-4466-980c-1acd04d33131"
      },
      "execution_count": 180,
      "outputs": [
        {
          "output_type": "execute_result",
          "data": {
            "text/plain": [
              "     Serial No.  GRE Score  TOEFL Score  University Rating  SOP  LOR  CGPA  \\\n",
              "0           1.0      337.0        118.0                4.0  4.5  4.5  9.65   \n",
              "1           2.0      324.0        107.0                4.0  4.0  4.5  8.87   \n",
              "2           3.0      316.0        104.0                3.0  3.0  3.5  8.00   \n",
              "3           4.0      322.0        110.0                3.0  3.5  2.5  8.67   \n",
              "4           5.0      314.0        103.0                2.0  2.0  3.0  8.21   \n",
              "..          ...        ...          ...                ...  ...  ...   ...   \n",
              "495       496.0      332.0        108.0                5.0  4.5  4.0  9.02   \n",
              "496       497.0      337.0        117.0                5.0  5.0  5.0  9.87   \n",
              "497       498.0      330.0        120.0                5.0  4.5  5.0  9.56   \n",
              "498       499.0      312.0        103.0                4.0  4.0  5.0  8.43   \n",
              "499       500.0      327.0        113.0                4.0  4.5  4.5  9.04   \n",
              "\n",
              "     Research  Chance of Admit  \n",
              "0         1.0             0.92  \n",
              "1         1.0             0.76  \n",
              "2         1.0             0.72  \n",
              "3         1.0             0.80  \n",
              "4         0.0             0.65  \n",
              "..        ...              ...  \n",
              "495       1.0             0.87  \n",
              "496       1.0             0.96  \n",
              "497       1.0             0.93  \n",
              "498       0.0             0.73  \n",
              "499       0.0             0.84  \n",
              "\n",
              "[500 rows x 9 columns]"
            ],
            "text/html": [
              "\n",
              "  <div id=\"df-cfe5dc36-3637-41b4-b8ea-b57ca6e11cfc\">\n",
              "    <div class=\"colab-df-container\">\n",
              "      <div>\n",
              "<style scoped>\n",
              "    .dataframe tbody tr th:only-of-type {\n",
              "        vertical-align: middle;\n",
              "    }\n",
              "\n",
              "    .dataframe tbody tr th {\n",
              "        vertical-align: top;\n",
              "    }\n",
              "\n",
              "    .dataframe thead th {\n",
              "        text-align: right;\n",
              "    }\n",
              "</style>\n",
              "<table border=\"1\" class=\"dataframe\">\n",
              "  <thead>\n",
              "    <tr style=\"text-align: right;\">\n",
              "      <th></th>\n",
              "      <th>Serial No.</th>\n",
              "      <th>GRE Score</th>\n",
              "      <th>TOEFL Score</th>\n",
              "      <th>University Rating</th>\n",
              "      <th>SOP</th>\n",
              "      <th>LOR</th>\n",
              "      <th>CGPA</th>\n",
              "      <th>Research</th>\n",
              "      <th>Chance of Admit</th>\n",
              "    </tr>\n",
              "  </thead>\n",
              "  <tbody>\n",
              "    <tr>\n",
              "      <th>0</th>\n",
              "      <td>1.0</td>\n",
              "      <td>337.0</td>\n",
              "      <td>118.0</td>\n",
              "      <td>4.0</td>\n",
              "      <td>4.5</td>\n",
              "      <td>4.5</td>\n",
              "      <td>9.65</td>\n",
              "      <td>1.0</td>\n",
              "      <td>0.92</td>\n",
              "    </tr>\n",
              "    <tr>\n",
              "      <th>1</th>\n",
              "      <td>2.0</td>\n",
              "      <td>324.0</td>\n",
              "      <td>107.0</td>\n",
              "      <td>4.0</td>\n",
              "      <td>4.0</td>\n",
              "      <td>4.5</td>\n",
              "      <td>8.87</td>\n",
              "      <td>1.0</td>\n",
              "      <td>0.76</td>\n",
              "    </tr>\n",
              "    <tr>\n",
              "      <th>2</th>\n",
              "      <td>3.0</td>\n",
              "      <td>316.0</td>\n",
              "      <td>104.0</td>\n",
              "      <td>3.0</td>\n",
              "      <td>3.0</td>\n",
              "      <td>3.5</td>\n",
              "      <td>8.00</td>\n",
              "      <td>1.0</td>\n",
              "      <td>0.72</td>\n",
              "    </tr>\n",
              "    <tr>\n",
              "      <th>3</th>\n",
              "      <td>4.0</td>\n",
              "      <td>322.0</td>\n",
              "      <td>110.0</td>\n",
              "      <td>3.0</td>\n",
              "      <td>3.5</td>\n",
              "      <td>2.5</td>\n",
              "      <td>8.67</td>\n",
              "      <td>1.0</td>\n",
              "      <td>0.80</td>\n",
              "    </tr>\n",
              "    <tr>\n",
              "      <th>4</th>\n",
              "      <td>5.0</td>\n",
              "      <td>314.0</td>\n",
              "      <td>103.0</td>\n",
              "      <td>2.0</td>\n",
              "      <td>2.0</td>\n",
              "      <td>3.0</td>\n",
              "      <td>8.21</td>\n",
              "      <td>0.0</td>\n",
              "      <td>0.65</td>\n",
              "    </tr>\n",
              "    <tr>\n",
              "      <th>...</th>\n",
              "      <td>...</td>\n",
              "      <td>...</td>\n",
              "      <td>...</td>\n",
              "      <td>...</td>\n",
              "      <td>...</td>\n",
              "      <td>...</td>\n",
              "      <td>...</td>\n",
              "      <td>...</td>\n",
              "      <td>...</td>\n",
              "    </tr>\n",
              "    <tr>\n",
              "      <th>495</th>\n",
              "      <td>496.0</td>\n",
              "      <td>332.0</td>\n",
              "      <td>108.0</td>\n",
              "      <td>5.0</td>\n",
              "      <td>4.5</td>\n",
              "      <td>4.0</td>\n",
              "      <td>9.02</td>\n",
              "      <td>1.0</td>\n",
              "      <td>0.87</td>\n",
              "    </tr>\n",
              "    <tr>\n",
              "      <th>496</th>\n",
              "      <td>497.0</td>\n",
              "      <td>337.0</td>\n",
              "      <td>117.0</td>\n",
              "      <td>5.0</td>\n",
              "      <td>5.0</td>\n",
              "      <td>5.0</td>\n",
              "      <td>9.87</td>\n",
              "      <td>1.0</td>\n",
              "      <td>0.96</td>\n",
              "    </tr>\n",
              "    <tr>\n",
              "      <th>497</th>\n",
              "      <td>498.0</td>\n",
              "      <td>330.0</td>\n",
              "      <td>120.0</td>\n",
              "      <td>5.0</td>\n",
              "      <td>4.5</td>\n",
              "      <td>5.0</td>\n",
              "      <td>9.56</td>\n",
              "      <td>1.0</td>\n",
              "      <td>0.93</td>\n",
              "    </tr>\n",
              "    <tr>\n",
              "      <th>498</th>\n",
              "      <td>499.0</td>\n",
              "      <td>312.0</td>\n",
              "      <td>103.0</td>\n",
              "      <td>4.0</td>\n",
              "      <td>4.0</td>\n",
              "      <td>5.0</td>\n",
              "      <td>8.43</td>\n",
              "      <td>0.0</td>\n",
              "      <td>0.73</td>\n",
              "    </tr>\n",
              "    <tr>\n",
              "      <th>499</th>\n",
              "      <td>500.0</td>\n",
              "      <td>327.0</td>\n",
              "      <td>113.0</td>\n",
              "      <td>4.0</td>\n",
              "      <td>4.5</td>\n",
              "      <td>4.5</td>\n",
              "      <td>9.04</td>\n",
              "      <td>0.0</td>\n",
              "      <td>0.84</td>\n",
              "    </tr>\n",
              "  </tbody>\n",
              "</table>\n",
              "<p>500 rows × 9 columns</p>\n",
              "</div>\n",
              "      <button class=\"colab-df-convert\" onclick=\"convertToInteractive('df-cfe5dc36-3637-41b4-b8ea-b57ca6e11cfc')\"\n",
              "              title=\"Convert this dataframe to an interactive table.\"\n",
              "              style=\"display:none;\">\n",
              "        \n",
              "  <svg xmlns=\"http://www.w3.org/2000/svg\" height=\"24px\"viewBox=\"0 0 24 24\"\n",
              "       width=\"24px\">\n",
              "    <path d=\"M0 0h24v24H0V0z\" fill=\"none\"/>\n",
              "    <path d=\"M18.56 5.44l.94 2.06.94-2.06 2.06-.94-2.06-.94-.94-2.06-.94 2.06-2.06.94zm-11 1L8.5 8.5l.94-2.06 2.06-.94-2.06-.94L8.5 2.5l-.94 2.06-2.06.94zm10 10l.94 2.06.94-2.06 2.06-.94-2.06-.94-.94-2.06-.94 2.06-2.06.94z\"/><path d=\"M17.41 7.96l-1.37-1.37c-.4-.4-.92-.59-1.43-.59-.52 0-1.04.2-1.43.59L10.3 9.45l-7.72 7.72c-.78.78-.78 2.05 0 2.83L4 21.41c.39.39.9.59 1.41.59.51 0 1.02-.2 1.41-.59l7.78-7.78 2.81-2.81c.8-.78.8-2.07 0-2.86zM5.41 20L4 18.59l7.72-7.72 1.47 1.35L5.41 20z\"/>\n",
              "  </svg>\n",
              "      </button>\n",
              "      \n",
              "  <style>\n",
              "    .colab-df-container {\n",
              "      display:flex;\n",
              "      flex-wrap:wrap;\n",
              "      gap: 12px;\n",
              "    }\n",
              "\n",
              "    .colab-df-convert {\n",
              "      background-color: #E8F0FE;\n",
              "      border: none;\n",
              "      border-radius: 50%;\n",
              "      cursor: pointer;\n",
              "      display: none;\n",
              "      fill: #1967D2;\n",
              "      height: 32px;\n",
              "      padding: 0 0 0 0;\n",
              "      width: 32px;\n",
              "    }\n",
              "\n",
              "    .colab-df-convert:hover {\n",
              "      background-color: #E2EBFA;\n",
              "      box-shadow: 0px 1px 2px rgba(60, 64, 67, 0.3), 0px 1px 3px 1px rgba(60, 64, 67, 0.15);\n",
              "      fill: #174EA6;\n",
              "    }\n",
              "\n",
              "    [theme=dark] .colab-df-convert {\n",
              "      background-color: #3B4455;\n",
              "      fill: #D2E3FC;\n",
              "    }\n",
              "\n",
              "    [theme=dark] .colab-df-convert:hover {\n",
              "      background-color: #434B5C;\n",
              "      box-shadow: 0px 1px 3px 1px rgba(0, 0, 0, 0.15);\n",
              "      filter: drop-shadow(0px 1px 2px rgba(0, 0, 0, 0.3));\n",
              "      fill: #FFFFFF;\n",
              "    }\n",
              "  </style>\n",
              "\n",
              "      <script>\n",
              "        const buttonEl =\n",
              "          document.querySelector('#df-cfe5dc36-3637-41b4-b8ea-b57ca6e11cfc button.colab-df-convert');\n",
              "        buttonEl.style.display =\n",
              "          google.colab.kernel.accessAllowed ? 'block' : 'none';\n",
              "\n",
              "        async function convertToInteractive(key) {\n",
              "          const element = document.querySelector('#df-cfe5dc36-3637-41b4-b8ea-b57ca6e11cfc');\n",
              "          const dataTable =\n",
              "            await google.colab.kernel.invokeFunction('convertToInteractive',\n",
              "                                                     [key], {});\n",
              "          if (!dataTable) return;\n",
              "\n",
              "          const docLinkHtml = 'Like what you see? Visit the ' +\n",
              "            '<a target=\"_blank\" href=https://colab.research.google.com/notebooks/data_table.ipynb>data table notebook</a>'\n",
              "            + ' to learn more about interactive tables.';\n",
              "          element.innerHTML = '';\n",
              "          dataTable['output_type'] = 'display_data';\n",
              "          await google.colab.output.renderOutput(dataTable, element);\n",
              "          const docLink = document.createElement('div');\n",
              "          docLink.innerHTML = docLinkHtml;\n",
              "          element.appendChild(docLink);\n",
              "        }\n",
              "      </script>\n",
              "    </div>\n",
              "  </div>\n",
              "  "
            ]
          },
          "metadata": {},
          "execution_count": 180
        }
      ]
    },
    {
      "cell_type": "markdown",
      "source": [
        "##1. Define Problem statement & Exploratory analysis"
      ],
      "metadata": {
        "id": "05e71rv9OVg4"
      }
    },
    {
      "cell_type": "markdown",
      "source": [
        "###Definition of Problem"
      ],
      "metadata": {
        "id": "fGa0VVv8RJYg"
      }
    },
    {
      "cell_type": "markdown",
      "source": [
        "**The fetaure of this model is to predict whether a student gets an admission into a specific college or not based on the scores and the capability of a candidate**"
      ],
      "metadata": {
        "id": "B0uMV-1aOimm"
      }
    },
    {
      "cell_type": "markdown",
      "source": [
        "###Observations and shape of data"
      ],
      "metadata": {
        "id": "2XMdO0D9Rbba"
      }
    },
    {
      "cell_type": "code",
      "source": [
        "df.head()"
      ],
      "metadata": {
        "colab": {
          "base_uri": "https://localhost:8080/",
          "height": 206
        },
        "id": "ydfMTAQoONhx",
        "outputId": "7443de49-c059-42cc-cc76-41fb794b08fa"
      },
      "execution_count": 181,
      "outputs": [
        {
          "output_type": "execute_result",
          "data": {
            "text/plain": [
              "   Serial No.  GRE Score  TOEFL Score  University Rating  SOP  LOR  CGPA  \\\n",
              "0         1.0      337.0        118.0                4.0  4.5  4.5  9.65   \n",
              "1         2.0      324.0        107.0                4.0  4.0  4.5  8.87   \n",
              "2         3.0      316.0        104.0                3.0  3.0  3.5  8.00   \n",
              "3         4.0      322.0        110.0                3.0  3.5  2.5  8.67   \n",
              "4         5.0      314.0        103.0                2.0  2.0  3.0  8.21   \n",
              "\n",
              "   Research  Chance of Admit  \n",
              "0       1.0             0.92  \n",
              "1       1.0             0.76  \n",
              "2       1.0             0.72  \n",
              "3       1.0             0.80  \n",
              "4       0.0             0.65  "
            ],
            "text/html": [
              "\n",
              "  <div id=\"df-b3c2a4bb-4a8c-4498-8058-f9b09c158c49\">\n",
              "    <div class=\"colab-df-container\">\n",
              "      <div>\n",
              "<style scoped>\n",
              "    .dataframe tbody tr th:only-of-type {\n",
              "        vertical-align: middle;\n",
              "    }\n",
              "\n",
              "    .dataframe tbody tr th {\n",
              "        vertical-align: top;\n",
              "    }\n",
              "\n",
              "    .dataframe thead th {\n",
              "        text-align: right;\n",
              "    }\n",
              "</style>\n",
              "<table border=\"1\" class=\"dataframe\">\n",
              "  <thead>\n",
              "    <tr style=\"text-align: right;\">\n",
              "      <th></th>\n",
              "      <th>Serial No.</th>\n",
              "      <th>GRE Score</th>\n",
              "      <th>TOEFL Score</th>\n",
              "      <th>University Rating</th>\n",
              "      <th>SOP</th>\n",
              "      <th>LOR</th>\n",
              "      <th>CGPA</th>\n",
              "      <th>Research</th>\n",
              "      <th>Chance of Admit</th>\n",
              "    </tr>\n",
              "  </thead>\n",
              "  <tbody>\n",
              "    <tr>\n",
              "      <th>0</th>\n",
              "      <td>1.0</td>\n",
              "      <td>337.0</td>\n",
              "      <td>118.0</td>\n",
              "      <td>4.0</td>\n",
              "      <td>4.5</td>\n",
              "      <td>4.5</td>\n",
              "      <td>9.65</td>\n",
              "      <td>1.0</td>\n",
              "      <td>0.92</td>\n",
              "    </tr>\n",
              "    <tr>\n",
              "      <th>1</th>\n",
              "      <td>2.0</td>\n",
              "      <td>324.0</td>\n",
              "      <td>107.0</td>\n",
              "      <td>4.0</td>\n",
              "      <td>4.0</td>\n",
              "      <td>4.5</td>\n",
              "      <td>8.87</td>\n",
              "      <td>1.0</td>\n",
              "      <td>0.76</td>\n",
              "    </tr>\n",
              "    <tr>\n",
              "      <th>2</th>\n",
              "      <td>3.0</td>\n",
              "      <td>316.0</td>\n",
              "      <td>104.0</td>\n",
              "      <td>3.0</td>\n",
              "      <td>3.0</td>\n",
              "      <td>3.5</td>\n",
              "      <td>8.00</td>\n",
              "      <td>1.0</td>\n",
              "      <td>0.72</td>\n",
              "    </tr>\n",
              "    <tr>\n",
              "      <th>3</th>\n",
              "      <td>4.0</td>\n",
              "      <td>322.0</td>\n",
              "      <td>110.0</td>\n",
              "      <td>3.0</td>\n",
              "      <td>3.5</td>\n",
              "      <td>2.5</td>\n",
              "      <td>8.67</td>\n",
              "      <td>1.0</td>\n",
              "      <td>0.80</td>\n",
              "    </tr>\n",
              "    <tr>\n",
              "      <th>4</th>\n",
              "      <td>5.0</td>\n",
              "      <td>314.0</td>\n",
              "      <td>103.0</td>\n",
              "      <td>2.0</td>\n",
              "      <td>2.0</td>\n",
              "      <td>3.0</td>\n",
              "      <td>8.21</td>\n",
              "      <td>0.0</td>\n",
              "      <td>0.65</td>\n",
              "    </tr>\n",
              "  </tbody>\n",
              "</table>\n",
              "</div>\n",
              "      <button class=\"colab-df-convert\" onclick=\"convertToInteractive('df-b3c2a4bb-4a8c-4498-8058-f9b09c158c49')\"\n",
              "              title=\"Convert this dataframe to an interactive table.\"\n",
              "              style=\"display:none;\">\n",
              "        \n",
              "  <svg xmlns=\"http://www.w3.org/2000/svg\" height=\"24px\"viewBox=\"0 0 24 24\"\n",
              "       width=\"24px\">\n",
              "    <path d=\"M0 0h24v24H0V0z\" fill=\"none\"/>\n",
              "    <path d=\"M18.56 5.44l.94 2.06.94-2.06 2.06-.94-2.06-.94-.94-2.06-.94 2.06-2.06.94zm-11 1L8.5 8.5l.94-2.06 2.06-.94-2.06-.94L8.5 2.5l-.94 2.06-2.06.94zm10 10l.94 2.06.94-2.06 2.06-.94-2.06-.94-.94-2.06-.94 2.06-2.06.94z\"/><path d=\"M17.41 7.96l-1.37-1.37c-.4-.4-.92-.59-1.43-.59-.52 0-1.04.2-1.43.59L10.3 9.45l-7.72 7.72c-.78.78-.78 2.05 0 2.83L4 21.41c.39.39.9.59 1.41.59.51 0 1.02-.2 1.41-.59l7.78-7.78 2.81-2.81c.8-.78.8-2.07 0-2.86zM5.41 20L4 18.59l7.72-7.72 1.47 1.35L5.41 20z\"/>\n",
              "  </svg>\n",
              "      </button>\n",
              "      \n",
              "  <style>\n",
              "    .colab-df-container {\n",
              "      display:flex;\n",
              "      flex-wrap:wrap;\n",
              "      gap: 12px;\n",
              "    }\n",
              "\n",
              "    .colab-df-convert {\n",
              "      background-color: #E8F0FE;\n",
              "      border: none;\n",
              "      border-radius: 50%;\n",
              "      cursor: pointer;\n",
              "      display: none;\n",
              "      fill: #1967D2;\n",
              "      height: 32px;\n",
              "      padding: 0 0 0 0;\n",
              "      width: 32px;\n",
              "    }\n",
              "\n",
              "    .colab-df-convert:hover {\n",
              "      background-color: #E2EBFA;\n",
              "      box-shadow: 0px 1px 2px rgba(60, 64, 67, 0.3), 0px 1px 3px 1px rgba(60, 64, 67, 0.15);\n",
              "      fill: #174EA6;\n",
              "    }\n",
              "\n",
              "    [theme=dark] .colab-df-convert {\n",
              "      background-color: #3B4455;\n",
              "      fill: #D2E3FC;\n",
              "    }\n",
              "\n",
              "    [theme=dark] .colab-df-convert:hover {\n",
              "      background-color: #434B5C;\n",
              "      box-shadow: 0px 1px 3px 1px rgba(0, 0, 0, 0.15);\n",
              "      filter: drop-shadow(0px 1px 2px rgba(0, 0, 0, 0.3));\n",
              "      fill: #FFFFFF;\n",
              "    }\n",
              "  </style>\n",
              "\n",
              "      <script>\n",
              "        const buttonEl =\n",
              "          document.querySelector('#df-b3c2a4bb-4a8c-4498-8058-f9b09c158c49 button.colab-df-convert');\n",
              "        buttonEl.style.display =\n",
              "          google.colab.kernel.accessAllowed ? 'block' : 'none';\n",
              "\n",
              "        async function convertToInteractive(key) {\n",
              "          const element = document.querySelector('#df-b3c2a4bb-4a8c-4498-8058-f9b09c158c49');\n",
              "          const dataTable =\n",
              "            await google.colab.kernel.invokeFunction('convertToInteractive',\n",
              "                                                     [key], {});\n",
              "          if (!dataTable) return;\n",
              "\n",
              "          const docLinkHtml = 'Like what you see? Visit the ' +\n",
              "            '<a target=\"_blank\" href=https://colab.research.google.com/notebooks/data_table.ipynb>data table notebook</a>'\n",
              "            + ' to learn more about interactive tables.';\n",
              "          element.innerHTML = '';\n",
              "          dataTable['output_type'] = 'display_data';\n",
              "          await google.colab.output.renderOutput(dataTable, element);\n",
              "          const docLink = document.createElement('div');\n",
              "          docLink.innerHTML = docLinkHtml;\n",
              "          element.appendChild(docLink);\n",
              "        }\n",
              "      </script>\n",
              "    </div>\n",
              "  </div>\n",
              "  "
            ]
          },
          "metadata": {},
          "execution_count": 181
        }
      ]
    },
    {
      "cell_type": "code",
      "source": [
        "df.shape"
      ],
      "metadata": {
        "colab": {
          "base_uri": "https://localhost:8080/"
        },
        "id": "h4hISb85Riw1",
        "outputId": "807a572e-5b90-4795-f6d1-f6dd99928ec1"
      },
      "execution_count": 182,
      "outputs": [
        {
          "output_type": "execute_result",
          "data": {
            "text/plain": [
              "(500, 9)"
            ]
          },
          "metadata": {},
          "execution_count": 182
        }
      ]
    },
    {
      "cell_type": "markdown",
      "source": [
        "###Data types"
      ],
      "metadata": {
        "id": "CxHGt-0ER9bl"
      }
    },
    {
      "cell_type": "code",
      "source": [
        "df.info()"
      ],
      "metadata": {
        "colab": {
          "base_uri": "https://localhost:8080/"
        },
        "id": "WzPal0kZRojl",
        "outputId": "41af66a5-4e24-4bec-9f6c-f35496b4ce5a"
      },
      "execution_count": 183,
      "outputs": [
        {
          "output_type": "stream",
          "name": "stdout",
          "text": [
            "<class 'pandas.core.frame.DataFrame'>\n",
            "RangeIndex: 500 entries, 0 to 499\n",
            "Data columns (total 9 columns):\n",
            " #   Column             Non-Null Count  Dtype  \n",
            "---  ------             --------------  -----  \n",
            " 0   Serial No.         500 non-null    float64\n",
            " 1   GRE Score          500 non-null    float64\n",
            " 2   TOEFL Score        500 non-null    float64\n",
            " 3   University Rating  500 non-null    float64\n",
            " 4   SOP                500 non-null    float64\n",
            " 5   LOR                500 non-null    float64\n",
            " 6   CGPA               500 non-null    float64\n",
            " 7   Research           500 non-null    float64\n",
            " 8   Chance of Admit    500 non-null    float64\n",
            "dtypes: float64(9)\n",
            "memory usage: 35.3 KB\n"
          ]
        }
      ]
    },
    {
      "cell_type": "code",
      "source": [
        "df.drop(['Serial No.'],axis=1,inplace=True)"
      ],
      "metadata": {
        "id": "lFYBQoFnZ_BP"
      },
      "execution_count": 184,
      "outputs": []
    },
    {
      "cell_type": "markdown",
      "source": [
        "**Among all the features, University rating and Research are categorical data**"
      ],
      "metadata": {
        "id": "Zt_1xYOxSP9P"
      }
    },
    {
      "cell_type": "code",
      "source": [
        "df['University Rating']=df['University Rating'].astype('category')\n",
        "df['Research']=df['Research'].astype('category')\n",
        "df['SOP']=df['SOP'].astype('category')\n",
        "df['LOR']=df['LOR'].astype('category')"
      ],
      "metadata": {
        "id": "LzFlGSIMR6KX"
      },
      "execution_count": 185,
      "outputs": []
    },
    {
      "cell_type": "code",
      "source": [
        "df.info()"
      ],
      "metadata": {
        "colab": {
          "base_uri": "https://localhost:8080/"
        },
        "id": "rkSVkfOyTGee",
        "outputId": "02d08be9-da58-4348-9f17-e994d0ae3a30"
      },
      "execution_count": 186,
      "outputs": [
        {
          "output_type": "stream",
          "name": "stdout",
          "text": [
            "<class 'pandas.core.frame.DataFrame'>\n",
            "RangeIndex: 500 entries, 0 to 499\n",
            "Data columns (total 8 columns):\n",
            " #   Column             Non-Null Count  Dtype   \n",
            "---  ------             --------------  -----   \n",
            " 0   GRE Score          500 non-null    float64 \n",
            " 1   TOEFL Score        500 non-null    float64 \n",
            " 2   University Rating  500 non-null    category\n",
            " 3   SOP                500 non-null    category\n",
            " 4   LOR                500 non-null    category\n",
            " 5   CGPA               500 non-null    float64 \n",
            " 6   Research           500 non-null    category\n",
            " 7   Chance of Admit    500 non-null    float64 \n",
            "dtypes: category(4), float64(4)\n",
            "memory usage: 18.8 KB\n"
          ]
        }
      ]
    },
    {
      "cell_type": "markdown",
      "source": [
        "###Missing value detection"
      ],
      "metadata": {
        "id": "W_446KgAUV-O"
      }
    },
    {
      "cell_type": "code",
      "source": [
        "df[df.isna()].count()"
      ],
      "metadata": {
        "colab": {
          "base_uri": "https://localhost:8080/"
        },
        "id": "maMmm8NiTMYJ",
        "outputId": "7b7533e8-be0b-4311-f0d8-af9660278174"
      },
      "execution_count": 187,
      "outputs": [
        {
          "output_type": "execute_result",
          "data": {
            "text/plain": [
              "GRE Score            0\n",
              "TOEFL Score          0\n",
              "University Rating    0\n",
              "SOP                  0\n",
              "LOR                  0\n",
              "CGPA                 0\n",
              "Research             0\n",
              "Chance of Admit      0\n",
              "dtype: int64"
            ]
          },
          "metadata": {},
          "execution_count": 187
        }
      ]
    },
    {
      "cell_type": "markdown",
      "source": [
        "**NO missing values**"
      ],
      "metadata": {
        "id": "bMCbqC3UUsT1"
      }
    },
    {
      "cell_type": "markdown",
      "source": [
        "###Statistical summary"
      ],
      "metadata": {
        "id": "3bxyK84wUzv0"
      }
    },
    {
      "cell_type": "code",
      "source": [
        "df.describe(include='all')"
      ],
      "metadata": {
        "colab": {
          "base_uri": "https://localhost:8080/",
          "height": 0
        },
        "id": "OYxufku7UhkX",
        "outputId": "dc864daf-abd4-42d2-857d-f7c149127826"
      },
      "execution_count": 188,
      "outputs": [
        {
          "output_type": "execute_result",
          "data": {
            "text/plain": [
              "         GRE Score  TOEFL Score  University Rating    SOP    LOR        CGPA  \\\n",
              "count   500.000000   500.000000              500.0  500.0  500.0  500.000000   \n",
              "unique         NaN          NaN                5.0    9.0    9.0         NaN   \n",
              "top            NaN          NaN                3.0    4.0    3.0         NaN   \n",
              "freq           NaN          NaN              162.0   89.0   99.0         NaN   \n",
              "mean    316.472000   107.192000                NaN    NaN    NaN    8.576440   \n",
              "std      11.295148     6.081868                NaN    NaN    NaN    0.604813   \n",
              "min     290.000000    92.000000                NaN    NaN    NaN    6.800000   \n",
              "25%     308.000000   103.000000                NaN    NaN    NaN    8.127500   \n",
              "50%     317.000000   107.000000                NaN    NaN    NaN    8.560000   \n",
              "75%     325.000000   112.000000                NaN    NaN    NaN    9.040000   \n",
              "max     340.000000   120.000000                NaN    NaN    NaN    9.920000   \n",
              "\n",
              "        Research  Chance of Admit  \n",
              "count      500.0        500.00000  \n",
              "unique       2.0              NaN  \n",
              "top          1.0              NaN  \n",
              "freq       280.0              NaN  \n",
              "mean         NaN          0.72174  \n",
              "std          NaN          0.14114  \n",
              "min          NaN          0.34000  \n",
              "25%          NaN          0.63000  \n",
              "50%          NaN          0.72000  \n",
              "75%          NaN          0.82000  \n",
              "max          NaN          0.97000  "
            ],
            "text/html": [
              "\n",
              "  <div id=\"df-1f07a5aa-1d87-4043-88df-f8c826c4a4c4\">\n",
              "    <div class=\"colab-df-container\">\n",
              "      <div>\n",
              "<style scoped>\n",
              "    .dataframe tbody tr th:only-of-type {\n",
              "        vertical-align: middle;\n",
              "    }\n",
              "\n",
              "    .dataframe tbody tr th {\n",
              "        vertical-align: top;\n",
              "    }\n",
              "\n",
              "    .dataframe thead th {\n",
              "        text-align: right;\n",
              "    }\n",
              "</style>\n",
              "<table border=\"1\" class=\"dataframe\">\n",
              "  <thead>\n",
              "    <tr style=\"text-align: right;\">\n",
              "      <th></th>\n",
              "      <th>GRE Score</th>\n",
              "      <th>TOEFL Score</th>\n",
              "      <th>University Rating</th>\n",
              "      <th>SOP</th>\n",
              "      <th>LOR</th>\n",
              "      <th>CGPA</th>\n",
              "      <th>Research</th>\n",
              "      <th>Chance of Admit</th>\n",
              "    </tr>\n",
              "  </thead>\n",
              "  <tbody>\n",
              "    <tr>\n",
              "      <th>count</th>\n",
              "      <td>500.000000</td>\n",
              "      <td>500.000000</td>\n",
              "      <td>500.0</td>\n",
              "      <td>500.0</td>\n",
              "      <td>500.0</td>\n",
              "      <td>500.000000</td>\n",
              "      <td>500.0</td>\n",
              "      <td>500.00000</td>\n",
              "    </tr>\n",
              "    <tr>\n",
              "      <th>unique</th>\n",
              "      <td>NaN</td>\n",
              "      <td>NaN</td>\n",
              "      <td>5.0</td>\n",
              "      <td>9.0</td>\n",
              "      <td>9.0</td>\n",
              "      <td>NaN</td>\n",
              "      <td>2.0</td>\n",
              "      <td>NaN</td>\n",
              "    </tr>\n",
              "    <tr>\n",
              "      <th>top</th>\n",
              "      <td>NaN</td>\n",
              "      <td>NaN</td>\n",
              "      <td>3.0</td>\n",
              "      <td>4.0</td>\n",
              "      <td>3.0</td>\n",
              "      <td>NaN</td>\n",
              "      <td>1.0</td>\n",
              "      <td>NaN</td>\n",
              "    </tr>\n",
              "    <tr>\n",
              "      <th>freq</th>\n",
              "      <td>NaN</td>\n",
              "      <td>NaN</td>\n",
              "      <td>162.0</td>\n",
              "      <td>89.0</td>\n",
              "      <td>99.0</td>\n",
              "      <td>NaN</td>\n",
              "      <td>280.0</td>\n",
              "      <td>NaN</td>\n",
              "    </tr>\n",
              "    <tr>\n",
              "      <th>mean</th>\n",
              "      <td>316.472000</td>\n",
              "      <td>107.192000</td>\n",
              "      <td>NaN</td>\n",
              "      <td>NaN</td>\n",
              "      <td>NaN</td>\n",
              "      <td>8.576440</td>\n",
              "      <td>NaN</td>\n",
              "      <td>0.72174</td>\n",
              "    </tr>\n",
              "    <tr>\n",
              "      <th>std</th>\n",
              "      <td>11.295148</td>\n",
              "      <td>6.081868</td>\n",
              "      <td>NaN</td>\n",
              "      <td>NaN</td>\n",
              "      <td>NaN</td>\n",
              "      <td>0.604813</td>\n",
              "      <td>NaN</td>\n",
              "      <td>0.14114</td>\n",
              "    </tr>\n",
              "    <tr>\n",
              "      <th>min</th>\n",
              "      <td>290.000000</td>\n",
              "      <td>92.000000</td>\n",
              "      <td>NaN</td>\n",
              "      <td>NaN</td>\n",
              "      <td>NaN</td>\n",
              "      <td>6.800000</td>\n",
              "      <td>NaN</td>\n",
              "      <td>0.34000</td>\n",
              "    </tr>\n",
              "    <tr>\n",
              "      <th>25%</th>\n",
              "      <td>308.000000</td>\n",
              "      <td>103.000000</td>\n",
              "      <td>NaN</td>\n",
              "      <td>NaN</td>\n",
              "      <td>NaN</td>\n",
              "      <td>8.127500</td>\n",
              "      <td>NaN</td>\n",
              "      <td>0.63000</td>\n",
              "    </tr>\n",
              "    <tr>\n",
              "      <th>50%</th>\n",
              "      <td>317.000000</td>\n",
              "      <td>107.000000</td>\n",
              "      <td>NaN</td>\n",
              "      <td>NaN</td>\n",
              "      <td>NaN</td>\n",
              "      <td>8.560000</td>\n",
              "      <td>NaN</td>\n",
              "      <td>0.72000</td>\n",
              "    </tr>\n",
              "    <tr>\n",
              "      <th>75%</th>\n",
              "      <td>325.000000</td>\n",
              "      <td>112.000000</td>\n",
              "      <td>NaN</td>\n",
              "      <td>NaN</td>\n",
              "      <td>NaN</td>\n",
              "      <td>9.040000</td>\n",
              "      <td>NaN</td>\n",
              "      <td>0.82000</td>\n",
              "    </tr>\n",
              "    <tr>\n",
              "      <th>max</th>\n",
              "      <td>340.000000</td>\n",
              "      <td>120.000000</td>\n",
              "      <td>NaN</td>\n",
              "      <td>NaN</td>\n",
              "      <td>NaN</td>\n",
              "      <td>9.920000</td>\n",
              "      <td>NaN</td>\n",
              "      <td>0.97000</td>\n",
              "    </tr>\n",
              "  </tbody>\n",
              "</table>\n",
              "</div>\n",
              "      <button class=\"colab-df-convert\" onclick=\"convertToInteractive('df-1f07a5aa-1d87-4043-88df-f8c826c4a4c4')\"\n",
              "              title=\"Convert this dataframe to an interactive table.\"\n",
              "              style=\"display:none;\">\n",
              "        \n",
              "  <svg xmlns=\"http://www.w3.org/2000/svg\" height=\"24px\"viewBox=\"0 0 24 24\"\n",
              "       width=\"24px\">\n",
              "    <path d=\"M0 0h24v24H0V0z\" fill=\"none\"/>\n",
              "    <path d=\"M18.56 5.44l.94 2.06.94-2.06 2.06-.94-2.06-.94-.94-2.06-.94 2.06-2.06.94zm-11 1L8.5 8.5l.94-2.06 2.06-.94-2.06-.94L8.5 2.5l-.94 2.06-2.06.94zm10 10l.94 2.06.94-2.06 2.06-.94-2.06-.94-.94-2.06-.94 2.06-2.06.94z\"/><path d=\"M17.41 7.96l-1.37-1.37c-.4-.4-.92-.59-1.43-.59-.52 0-1.04.2-1.43.59L10.3 9.45l-7.72 7.72c-.78.78-.78 2.05 0 2.83L4 21.41c.39.39.9.59 1.41.59.51 0 1.02-.2 1.41-.59l7.78-7.78 2.81-2.81c.8-.78.8-2.07 0-2.86zM5.41 20L4 18.59l7.72-7.72 1.47 1.35L5.41 20z\"/>\n",
              "  </svg>\n",
              "      </button>\n",
              "      \n",
              "  <style>\n",
              "    .colab-df-container {\n",
              "      display:flex;\n",
              "      flex-wrap:wrap;\n",
              "      gap: 12px;\n",
              "    }\n",
              "\n",
              "    .colab-df-convert {\n",
              "      background-color: #E8F0FE;\n",
              "      border: none;\n",
              "      border-radius: 50%;\n",
              "      cursor: pointer;\n",
              "      display: none;\n",
              "      fill: #1967D2;\n",
              "      height: 32px;\n",
              "      padding: 0 0 0 0;\n",
              "      width: 32px;\n",
              "    }\n",
              "\n",
              "    .colab-df-convert:hover {\n",
              "      background-color: #E2EBFA;\n",
              "      box-shadow: 0px 1px 2px rgba(60, 64, 67, 0.3), 0px 1px 3px 1px rgba(60, 64, 67, 0.15);\n",
              "      fill: #174EA6;\n",
              "    }\n",
              "\n",
              "    [theme=dark] .colab-df-convert {\n",
              "      background-color: #3B4455;\n",
              "      fill: #D2E3FC;\n",
              "    }\n",
              "\n",
              "    [theme=dark] .colab-df-convert:hover {\n",
              "      background-color: #434B5C;\n",
              "      box-shadow: 0px 1px 3px 1px rgba(0, 0, 0, 0.15);\n",
              "      filter: drop-shadow(0px 1px 2px rgba(0, 0, 0, 0.3));\n",
              "      fill: #FFFFFF;\n",
              "    }\n",
              "  </style>\n",
              "\n",
              "      <script>\n",
              "        const buttonEl =\n",
              "          document.querySelector('#df-1f07a5aa-1d87-4043-88df-f8c826c4a4c4 button.colab-df-convert');\n",
              "        buttonEl.style.display =\n",
              "          google.colab.kernel.accessAllowed ? 'block' : 'none';\n",
              "\n",
              "        async function convertToInteractive(key) {\n",
              "          const element = document.querySelector('#df-1f07a5aa-1d87-4043-88df-f8c826c4a4c4');\n",
              "          const dataTable =\n",
              "            await google.colab.kernel.invokeFunction('convertToInteractive',\n",
              "                                                     [key], {});\n",
              "          if (!dataTable) return;\n",
              "\n",
              "          const docLinkHtml = 'Like what you see? Visit the ' +\n",
              "            '<a target=\"_blank\" href=https://colab.research.google.com/notebooks/data_table.ipynb>data table notebook</a>'\n",
              "            + ' to learn more about interactive tables.';\n",
              "          element.innerHTML = '';\n",
              "          dataTable['output_type'] = 'display_data';\n",
              "          await google.colab.output.renderOutput(dataTable, element);\n",
              "          const docLink = document.createElement('div');\n",
              "          docLink.innerHTML = docLinkHtml;\n",
              "          element.appendChild(docLink);\n",
              "        }\n",
              "      </script>\n",
              "    </div>\n",
              "  </div>\n",
              "  "
            ]
          },
          "metadata": {},
          "execution_count": 188
        }
      ]
    },
    {
      "cell_type": "markdown",
      "source": [
        "###Univariate Analysis"
      ],
      "metadata": {
        "id": "gYhhWwQaVYwQ"
      }
    },
    {
      "cell_type": "markdown",
      "source": [
        "**let's see the distribution of continuous variables like GRE, TOEFL score,CGPA,chance of admit**"
      ],
      "metadata": {
        "id": "SQKP9Uu7Ve41"
      }
    },
    {
      "cell_type": "code",
      "source": [
        "categorical_columns=df.select_dtypes(include='category').columns\n",
        "numerical_columns=df.select_dtypes(include='number').columns"
      ],
      "metadata": {
        "id": "QwQHyzhoXgC9"
      },
      "execution_count": 189,
      "outputs": []
    },
    {
      "cell_type": "code",
      "source": [
        "import matplotlib.pyplot as plt\n",
        "import seaborn as sns"
      ],
      "metadata": {
        "id": "e0TOwbO_cKGf"
      },
      "execution_count": 190,
      "outputs": []
    },
    {
      "cell_type": "code",
      "source": [
        "for i in numerical_columns:\n",
        "  sns.displot(x=i,data=df)\n",
        "  plt.show()"
      ],
      "metadata": {
        "colab": {
          "base_uri": "https://localhost:8080/",
          "height": 1000
        },
        "id": "OYIL_hVfZQvI",
        "outputId": "8912ab20-02f6-4bff-8d45-c3122db6ae0d"
      },
      "execution_count": 191,
      "outputs": [
        {
          "output_type": "display_data",
          "data": {
            "text/plain": [
              "<Figure size 360x360 with 1 Axes>"
            ],
            "image/png": "[encoded data removed]"
          },
          "metadata": {
            "needs_background": "light"
          }
        },
        {
          "output_type": "display_data",
          "data": {
            "text/plain": [
              "<Figure size 360x360 with 1 Axes>"
            ],
            "image/png": "[encoded data removed]"
          },
          "metadata": {
            "needs_background": "light"
          }
        },
        {
          "output_type": "display_data",
          "data": {
            "text/plain": [
              "<Figure size 360x360 with 1 Axes>"
            ],
            "image/png": "[encoded data removed]"
          },
          "metadata": {
            "needs_background": "light"
          }
        },
        {
          "output_type": "display_data",
          "data": {
            "text/plain": [
              "<Figure size 360x360 with 1 Axes>"
            ],
            "image/png": "[encoded data removed]"
          },
          "metadata": {
            "needs_background": "light"
          }
        }
      ]
    },
    {
      "cell_type": "markdown",
      "source": [
        "**The ranges and high frequency or high repetative values can be observed**"
      ],
      "metadata": {
        "id": "MizU0LVoc0eV"
      }
    },
    {
      "cell_type": "code",
      "source": [
        "for i in categorical_columns:\n",
        "  sns.countplot(x=i,data=df)\n",
        "  plt.show()"
      ],
      "metadata": {
        "colab": {
          "base_uri": "https://localhost:8080/",
          "height": 1000
        },
        "id": "ivakHbficbhF",
        "outputId": "5d0e3eb5-eba3-4408-e627-739a7dc70f35"
      },
      "execution_count": 192,
      "outputs": [
        {
          "output_type": "display_data",
          "data": {
            "text/plain": [
              "<Figure size 432x288 with 1 Axes>"
            ],
            "image/png": "[encoded data removed]"
          },
          "metadata": {
            "needs_background": "light"
          }
        },
        {
          "output_type": "display_data",
          "data": {
            "text/plain": [
              "<Figure size 432x288 with 1 Axes>"
            ],
            "image/png": "[encoded data removed]"
          },
          "metadata": {
            "needs_background": "light"
          }
        },
        {
          "output_type": "display_data",
          "data": {
            "text/plain": [
              "<Figure size 432x288 with 1 Axes>"
            ],
            "image/png": "[encoded data removed]"
          },
          "metadata": {
            "needs_background": "light"
          }
        },
        {
          "output_type": "display_data",
          "data": {
            "text/plain": [
              "<Figure size 432x288 with 1 Axes>"
            ],
            "image/png": "[encoded data removed]"
          },
          "metadata": {
            "needs_background": "light"
          }
        }
      ]
    },
    {
      "cell_type": "markdown",
      "source": [
        "**The students with having research is more and the SOP, LOR the value of 3 to 4.0 and university rating of 3 is more**"
      ],
      "metadata": {
        "id": "5oCDbJnOdQqV"
      }
    },
    {
      "cell_type": "code",
      "source": [
        "for i in categorical_columns:\n",
        "  print(df[i].value_counts(normalize=True))\n"
      ],
      "metadata": {
        "colab": {
          "base_uri": "https://localhost:8080/"
        },
        "id": "S9EUv7sDsjvJ",
        "outputId": "c54924ed-6e61-446e-ff31-ee3ce8c0b209"
      },
      "execution_count": 193,
      "outputs": [
        {
          "output_type": "stream",
          "name": "stdout",
          "text": [
            "3.0    0.324\n",
            "2.0    0.252\n",
            "4.0    0.210\n",
            "5.0    0.146\n",
            "1.0    0.068\n",
            "Name: University Rating, dtype: float64\n",
            "4.0    0.178\n",
            "3.5    0.176\n",
            "3.0    0.160\n",
            "2.5    0.128\n",
            "4.5    0.126\n",
            "2.0    0.086\n",
            "5.0    0.084\n",
            "1.5    0.050\n",
            "1.0    0.012\n",
            "Name: SOP, dtype: float64\n",
            "3.0    0.198\n",
            "4.0    0.188\n",
            "3.5    0.172\n",
            "4.5    0.126\n",
            "2.5    0.100\n",
            "5.0    0.100\n",
            "2.0    0.092\n",
            "1.5    0.022\n",
            "1.0    0.002\n",
            "Name: LOR, dtype: float64\n",
            "1.0    0.56\n",
            "0.0    0.44\n",
            "Name: Research, dtype: float64\n"
          ]
        }
      ]
    },
    {
      "cell_type": "markdown",
      "source": [
        "###Bivariate analysis"
      ],
      "metadata": {
        "id": "7IITgWPEgBr6"
      }
    },
    {
      "cell_type": "code",
      "source": [
        "for i in ['SOP','LOR','University Rating']:\n",
        "  sns.boxplot(x=i,y='Chance of Admit',data=df,hue='Research')\n",
        "  plt.show()"
      ],
      "metadata": {
        "colab": {
          "base_uri": "https://localhost:8080/",
          "height": 815
        },
        "id": "YNSdWygCdLsv",
        "outputId": "1584e99d-cdcc-40bf-c5b4-a0f71e591504"
      },
      "execution_count": 194,
      "outputs": [
        {
          "output_type": "display_data",
          "data": {
            "text/plain": [
              "<Figure size 432x288 with 1 Axes>"
            ],
            "image/png": "[encoded data removed]"
          },
          "metadata": {
            "needs_background": "light"
          }
        },
        {
          "output_type": "display_data",
          "data": {
            "text/plain": [
              "<Figure size 432x288 with 1 Axes>"
            ],
            "image/png": "[encoded data removed]"
          },
          "metadata": {
            "needs_background": "light"
          }
        },
        {
          "output_type": "display_data",
          "data": {
            "text/plain": [
              "<Figure size 432x288 with 1 Axes>"
            ],
            "image/png": "[encoded data removed]"
          },
          "metadata": {
            "needs_background": "light"
          }
        }
      ]
    },
    {
      "cell_type": "code",
      "source": [
        "df.groupby(['Research'])['Chance of Admit'].plot.density()\n",
        "plt.legend();"
      ],
      "metadata": {
        "colab": {
          "base_uri": "https://localhost:8080/",
          "height": 265
        },
        "id": "aW5qXVTYwzKA",
        "outputId": "18388996-77bf-46f7-f53b-ae86929ba4b9"
      },
      "execution_count": 195,
      "outputs": [
        {
          "output_type": "display_data",
          "data": {
            "text/plain": [
              "<Figure size 432x288 with 1 Axes>"
            ],
            "image/png": "[encoded data removed]"
          },
          "metadata": {
            "needs_background": "light"
          }
        }
      ]
    },
    {
      "cell_type": "markdown",
      "source": [
        "**It shows the guys with research having more chances of getting admitted or getting good ratings for LOR and SOP**"
      ],
      "metadata": {
        "id": "_B9oIaVQk4Tj"
      }
    },
    {
      "cell_type": "markdown",
      "source": [
        "###Insights"
      ],
      "metadata": {
        "id": "IAo28-ZdmWka"
      }
    },
    {
      "cell_type": "markdown",
      "source": [
        "**The GRE score range is 290 to 340 and the most frequent scores are between 310 to 328**\n",
        "\n",
        "**The TOEFL score range is 90 to 120 and the most frequent score is about 100**\n",
        "\n",
        "**CGPA is between 6.8 to 10 and mostly occured is between 8 to 9**\n",
        "\n",
        "**Chance of admit is more of 0.6 to 1**\n",
        "\n",
        "**The chance of admit increases with SOP, LOR increases and who had done research has higher values of chance of admit**\n"
      ],
      "metadata": {
        "id": "K0UvQuolmax9"
      }
    },
    {
      "cell_type": "code",
      "source": [
        "sns.heatmap(df.corr(),annot=True)"
      ],
      "metadata": {
        "colab": {
          "base_uri": "https://localhost:8080/",
          "height": 286
        },
        "id": "6cZob3dbp3lx",
        "outputId": "3934755e-8e31-48db-bb82-e2fef178924d"
      },
      "execution_count": 196,
      "outputs": [
        {
          "output_type": "execute_result",
          "data": {
            "text/plain": [
              "<matplotlib.axes._subplots.AxesSubplot at 0x7fc50d1942d0>"
            ]
          },
          "metadata": {},
          "execution_count": 196
        },
        {
          "output_type": "display_data",
          "data": {
            "text/plain": [
              "<Figure size 432x288 with 2 Axes>"
            ],
            "image/png": "[encoded data removed]"
          },
          "metadata": {
            "needs_background": "light"
          }
        }
      ]
    },
    {
      "cell_type": "code",
      "source": [
        "sns.pairplot(df, y_vars=[\"Chance of Admit\"]);"
      ],
      "metadata": {
        "colab": {
          "base_uri": "https://localhost:8080/",
          "height": 197
        },
        "id": "qACpfBgXsMrm",
        "outputId": "fb4388fb-05c3-4375-a6a3-be62c3f21006"
      },
      "execution_count": 197,
      "outputs": [
        {
          "output_type": "display_data",
          "data": {
            "text/plain": [
              "<Figure size 720x180 with 5 Axes>"
            ],
            "image/png": "[encoded data removed]"
          },
          "metadata": {
            "needs_background": "light"
          }
        }
      ]
    },
    {
      "cell_type": "markdown",
      "source": [
        "**So, the chance of admit increases with GRE score, TOEFL score, CGPA**"
      ],
      "metadata": {
        "id": "1AwrlUiwsSsv"
      }
    },
    {
      "cell_type": "code",
      "source": [],
      "metadata": {
        "id": "g_NLW4fesfND"
      },
      "execution_count": 197,
      "outputs": []
    },
    {
      "cell_type": "markdown",
      "source": [
        "##Data Preprocessing"
      ],
      "metadata": {
        "id": "u41s1-TJoH70"
      }
    },
    {
      "cell_type": "markdown",
      "source": [
        "###Duplicate value check"
      ],
      "metadata": {
        "id": "j99Zmsc5oUHG"
      }
    },
    {
      "cell_type": "code",
      "source": [
        "df[df.duplicated()]"
      ],
      "metadata": {
        "colab": {
          "base_uri": "https://localhost:8080/",
          "height": 49
        },
        "id": "t__l2MHZg-Uw",
        "outputId": "05dfcb86-fa49-4142-c5c3-ee02be192f20"
      },
      "execution_count": 198,
      "outputs": [
        {
          "output_type": "execute_result",
          "data": {
            "text/plain": [
              "Empty DataFrame\n",
              "Columns: [GRE Score, TOEFL Score, University Rating, SOP, LOR, CGPA, Research, Chance of Admit]\n",
              "Index: []"
            ],
            "text/html": [
              "\n",
              "  <div id=\"df-97016585-243c-4847-8535-01441dde7590\">\n",
              "    <div class=\"colab-df-container\">\n",
              "      <div>\n",
              "<style scoped>\n",
              "    .dataframe tbody tr th:only-of-type {\n",
              "        vertical-align: middle;\n",
              "    }\n",
              "\n",
              "    .dataframe tbody tr th {\n",
              "        vertical-align: top;\n",
              "    }\n",
              "\n",
              "    .dataframe thead th {\n",
              "        text-align: right;\n",
              "    }\n",
              "</style>\n",
              "<table border=\"1\" class=\"dataframe\">\n",
              "  <thead>\n",
              "    <tr style=\"text-align: right;\">\n",
              "      <th></th>\n",
              "      <th>GRE Score</th>\n",
              "      <th>TOEFL Score</th>\n",
              "      <th>University Rating</th>\n",
              "      <th>SOP</th>\n",
              "      <th>LOR</th>\n",
              "      <th>CGPA</th>\n",
              "      <th>Research</th>\n",
              "      <th>Chance of Admit</th>\n",
              "    </tr>\n",
              "  </thead>\n",
              "  <tbody>\n",
              "  </tbody>\n",
              "</table>\n",
              "</div>\n",
              "      <button class=\"colab-df-convert\" onclick=\"convertToInteractive('df-97016585-243c-4847-8535-01441dde7590')\"\n",
              "              title=\"Convert this dataframe to an interactive table.\"\n",
              "              style=\"display:none;\">\n",
              "        \n",
              "  <svg xmlns=\"http://www.w3.org/2000/svg\" height=\"24px\"viewBox=\"0 0 24 24\"\n",
              "       width=\"24px\">\n",
              "    <path d=\"M0 0h24v24H0V0z\" fill=\"none\"/>\n",
              "    <path d=\"M18.56 5.44l.94 2.06.94-2.06 2.06-.94-2.06-.94-.94-2.06-.94 2.06-2.06.94zm-11 1L8.5 8.5l.94-2.06 2.06-.94-2.06-.94L8.5 2.5l-.94 2.06-2.06.94zm10 10l.94 2.06.94-2.06 2.06-.94-2.06-.94-.94-2.06-.94 2.06-2.06.94z\"/><path d=\"M17.41 7.96l-1.37-1.37c-.4-.4-.92-.59-1.43-.59-.52 0-1.04.2-1.43.59L10.3 9.45l-7.72 7.72c-.78.78-.78 2.05 0 2.83L4 21.41c.39.39.9.59 1.41.59.51 0 1.02-.2 1.41-.59l7.78-7.78 2.81-2.81c.8-.78.8-2.07 0-2.86zM5.41 20L4 18.59l7.72-7.72 1.47 1.35L5.41 20z\"/>\n",
              "  </svg>\n",
              "      </button>\n",
              "      \n",
              "  <style>\n",
              "    .colab-df-container {\n",
              "      display:flex;\n",
              "      flex-wrap:wrap;\n",
              "      gap: 12px;\n",
              "    }\n",
              "\n",
              "    .colab-df-convert {\n",
              "      background-color: #E8F0FE;\n",
              "      border: none;\n",
              "      border-radius: 50%;\n",
              "      cursor: pointer;\n",
              "      display: none;\n",
              "      fill: #1967D2;\n",
              "      height: 32px;\n",
              "      padding: 0 0 0 0;\n",
              "      width: 32px;\n",
              "    }\n",
              "\n",
              "    .colab-df-convert:hover {\n",
              "      background-color: #E2EBFA;\n",
              "      box-shadow: 0px 1px 2px rgba(60, 64, 67, 0.3), 0px 1px 3px 1px rgba(60, 64, 67, 0.15);\n",
              "      fill: #174EA6;\n",
              "    }\n",
              "\n",
              "    [theme=dark] .colab-df-convert {\n",
              "      background-color: #3B4455;\n",
              "      fill: #D2E3FC;\n",
              "    }\n",
              "\n",
              "    [theme=dark] .colab-df-convert:hover {\n",
              "      background-color: #434B5C;\n",
              "      box-shadow: 0px 1px 3px 1px rgba(0, 0, 0, 0.15);\n",
              "      filter: drop-shadow(0px 1px 2px rgba(0, 0, 0, 0.3));\n",
              "      fill: #FFFFFF;\n",
              "    }\n",
              "  </style>\n",
              "\n",
              "      <script>\n",
              "        const buttonEl =\n",
              "          document.querySelector('#df-97016585-243c-4847-8535-01441dde7590 button.colab-df-convert');\n",
              "        buttonEl.style.display =\n",
              "          google.colab.kernel.accessAllowed ? 'block' : 'none';\n",
              "\n",
              "        async function convertToInteractive(key) {\n",
              "          const element = document.querySelector('#df-97016585-243c-4847-8535-01441dde7590');\n",
              "          const dataTable =\n",
              "            await google.colab.kernel.invokeFunction('convertToInteractive',\n",
              "                                                     [key], {});\n",
              "          if (!dataTable) return;\n",
              "\n",
              "          const docLinkHtml = 'Like what you see? Visit the ' +\n",
              "            '<a target=\"_blank\" href=https://colab.research.google.com/notebooks/data_table.ipynb>data table notebook</a>'\n",
              "            + ' to learn more about interactive tables.';\n",
              "          element.innerHTML = '';\n",
              "          dataTable['output_type'] = 'display_data';\n",
              "          await google.colab.output.renderOutput(dataTable, element);\n",
              "          const docLink = document.createElement('div');\n",
              "          docLink.innerHTML = docLinkHtml;\n",
              "          element.appendChild(docLink);\n",
              "        }\n",
              "      </script>\n",
              "    </div>\n",
              "  </div>\n",
              "  "
            ]
          },
          "metadata": {},
          "execution_count": 198
        }
      ]
    },
    {
      "cell_type": "markdown",
      "source": [
        "**There are no duplicates**"
      ],
      "metadata": {
        "id": "bPfY-_mUouos"
      }
    },
    {
      "cell_type": "markdown",
      "source": [
        "###Missing value treatment"
      ],
      "metadata": {
        "id": "b0SWEbW_o2cZ"
      }
    },
    {
      "cell_type": "markdown",
      "source": [
        "**There are no missing values**"
      ],
      "metadata": {
        "id": "kUALdVkVo583"
      }
    },
    {
      "cell_type": "markdown",
      "source": [
        "###Outlier treatment"
      ],
      "metadata": {
        "id": "nvWpILUTo_mE"
      }
    },
    {
      "cell_type": "code",
      "source": [
        "df.describe(include='all')"
      ],
      "metadata": {
        "colab": {
          "base_uri": "https://localhost:8080/",
          "height": 394
        },
        "id": "xN2pvvK1obsJ",
        "outputId": "983bf800-7e7f-44c9-bd95-944e16c310e7"
      },
      "execution_count": 199,
      "outputs": [
        {
          "output_type": "execute_result",
          "data": {
            "text/plain": [
              "         GRE Score  TOEFL Score  University Rating    SOP    LOR        CGPA  \\\n",
              "count   500.000000   500.000000              500.0  500.0  500.0  500.000000   \n",
              "unique         NaN          NaN                5.0    9.0    9.0         NaN   \n",
              "top            NaN          NaN                3.0    4.0    3.0         NaN   \n",
              "freq           NaN          NaN              162.0   89.0   99.0         NaN   \n",
              "mean    316.472000   107.192000                NaN    NaN    NaN    8.576440   \n",
              "std      11.295148     6.081868                NaN    NaN    NaN    0.604813   \n",
              "min     290.000000    92.000000                NaN    NaN    NaN    6.800000   \n",
              "25%     308.000000   103.000000                NaN    NaN    NaN    8.127500   \n",
              "50%     317.000000   107.000000                NaN    NaN    NaN    8.560000   \n",
              "75%     325.000000   112.000000                NaN    NaN    NaN    9.040000   \n",
              "max     340.000000   120.000000                NaN    NaN    NaN    9.920000   \n",
              "\n",
              "        Research  Chance of Admit  \n",
              "count      500.0        500.00000  \n",
              "unique       2.0              NaN  \n",
              "top          1.0              NaN  \n",
              "freq       280.0              NaN  \n",
              "mean         NaN          0.72174  \n",
              "std          NaN          0.14114  \n",
              "min          NaN          0.34000  \n",
              "25%          NaN          0.63000  \n",
              "50%          NaN          0.72000  \n",
              "75%          NaN          0.82000  \n",
              "max          NaN          0.97000  "
            ],
            "text/html": [
              "\n",
              "  <div id=\"df-b147e7e8-8034-445b-a905-a3d24c67dfc4\">\n",
              "    <div class=\"colab-df-container\">\n",
              "      <div>\n",
              "<style scoped>\n",
              "    .dataframe tbody tr th:only-of-type {\n",
              "        vertical-align: middle;\n",
              "    }\n",
              "\n",
              "    .dataframe tbody tr th {\n",
              "        vertical-align: top;\n",
              "    }\n",
              "\n",
              "    .dataframe thead th {\n",
              "        text-align: right;\n",
              "    }\n",
              "</style>\n",
              "<table border=\"1\" class=\"dataframe\">\n",
              "  <thead>\n",
              "    <tr style=\"text-align: right;\">\n",
              "      <th></th>\n",
              "      <th>GRE Score</th>\n",
              "      <th>TOEFL Score</th>\n",
              "      <th>University Rating</th>\n",
              "      <th>SOP</th>\n",
              "      <th>LOR</th>\n",
              "      <th>CGPA</th>\n",
              "      <th>Research</th>\n",
              "      <th>Chance of Admit</th>\n",
              "    </tr>\n",
              "  </thead>\n",
              "  <tbody>\n",
              "    <tr>\n",
              "      <th>count</th>\n",
              "      <td>500.000000</td>\n",
              "      <td>500.000000</td>\n",
              "      <td>500.0</td>\n",
              "      <td>500.0</td>\n",
              "      <td>500.0</td>\n",
              "      <td>500.000000</td>\n",
              "      <td>500.0</td>\n",
              "      <td>500.00000</td>\n",
              "    </tr>\n",
              "    <tr>\n",
              "      <th>unique</th>\n",
              "      <td>NaN</td>\n",
              "      <td>NaN</td>\n",
              "      <td>5.0</td>\n",
              "      <td>9.0</td>\n",
              "      <td>9.0</td>\n",
              "      <td>NaN</td>\n",
              "      <td>2.0</td>\n",
              "      <td>NaN</td>\n",
              "    </tr>\n",
              "    <tr>\n",
              "      <th>top</th>\n",
              "      <td>NaN</td>\n",
              "      <td>NaN</td>\n",
              "      <td>3.0</td>\n",
              "      <td>4.0</td>\n",
              "      <td>3.0</td>\n",
              "      <td>NaN</td>\n",
              "      <td>1.0</td>\n",
              "      <td>NaN</td>\n",
              "    </tr>\n",
              "    <tr>\n",
              "      <th>freq</th>\n",
              "      <td>NaN</td>\n",
              "      <td>NaN</td>\n",
              "      <td>162.0</td>\n",
              "      <td>89.0</td>\n",
              "      <td>99.0</td>\n",
              "      <td>NaN</td>\n",
              "      <td>280.0</td>\n",
              "      <td>NaN</td>\n",
              "    </tr>\n",
              "    <tr>\n",
              "      <th>mean</th>\n",
              "      <td>316.472000</td>\n",
              "      <td>107.192000</td>\n",
              "      <td>NaN</td>\n",
              "      <td>NaN</td>\n",
              "      <td>NaN</td>\n",
              "      <td>8.576440</td>\n",
              "      <td>NaN</td>\n",
              "      <td>0.72174</td>\n",
              "    </tr>\n",
              "    <tr>\n",
              "      <th>std</th>\n",
              "      <td>11.295148</td>\n",
              "      <td>6.081868</td>\n",
              "      <td>NaN</td>\n",
              "      <td>NaN</td>\n",
              "      <td>NaN</td>\n",
              "      <td>0.604813</td>\n",
              "      <td>NaN</td>\n",
              "      <td>0.14114</td>\n",
              "    </tr>\n",
              "    <tr>\n",
              "      <th>min</th>\n",
              "      <td>290.000000</td>\n",
              "      <td>92.000000</td>\n",
              "      <td>NaN</td>\n",
              "      <td>NaN</td>\n",
              "      <td>NaN</td>\n",
              "      <td>6.800000</td>\n",
              "      <td>NaN</td>\n",
              "      <td>0.34000</td>\n",
              "    </tr>\n",
              "    <tr>\n",
              "      <th>25%</th>\n",
              "      <td>308.000000</td>\n",
              "      <td>103.000000</td>\n",
              "      <td>NaN</td>\n",
              "      <td>NaN</td>\n",
              "      <td>NaN</td>\n",
              "      <td>8.127500</td>\n",
              "      <td>NaN</td>\n",
              "      <td>0.63000</td>\n",
              "    </tr>\n",
              "    <tr>\n",
              "      <th>50%</th>\n",
              "      <td>317.000000</td>\n",
              "      <td>107.000000</td>\n",
              "      <td>NaN</td>\n",
              "      <td>NaN</td>\n",
              "      <td>NaN</td>\n",
              "      <td>8.560000</td>\n",
              "      <td>NaN</td>\n",
              "      <td>0.72000</td>\n",
              "    </tr>\n",
              "    <tr>\n",
              "      <th>75%</th>\n",
              "      <td>325.000000</td>\n",
              "      <td>112.000000</td>\n",
              "      <td>NaN</td>\n",
              "      <td>NaN</td>\n",
              "      <td>NaN</td>\n",
              "      <td>9.040000</td>\n",
              "      <td>NaN</td>\n",
              "      <td>0.82000</td>\n",
              "    </tr>\n",
              "    <tr>\n",
              "      <th>max</th>\n",
              "      <td>340.000000</td>\n",
              "      <td>120.000000</td>\n",
              "      <td>NaN</td>\n",
              "      <td>NaN</td>\n",
              "      <td>NaN</td>\n",
              "      <td>9.920000</td>\n",
              "      <td>NaN</td>\n",
              "      <td>0.97000</td>\n",
              "    </tr>\n",
              "  </tbody>\n",
              "</table>\n",
              "</div>\n",
              "      <button class=\"colab-df-convert\" onclick=\"convertToInteractive('df-b147e7e8-8034-445b-a905-a3d24c67dfc4')\"\n",
              "              title=\"Convert this dataframe to an interactive table.\"\n",
              "              style=\"display:none;\">\n",
              "        \n",
              "  <svg xmlns=\"http://www.w3.org/2000/svg\" height=\"24px\"viewBox=\"0 0 24 24\"\n",
              "       width=\"24px\">\n",
              "    <path d=\"M0 0h24v24H0V0z\" fill=\"none\"/>\n",
              "    <path d=\"M18.56 5.44l.94 2.06.94-2.06 2.06-.94-2.06-.94-.94-2.06-.94 2.06-2.06.94zm-11 1L8.5 8.5l.94-2.06 2.06-.94-2.06-.94L8.5 2.5l-.94 2.06-2.06.94zm10 10l.94 2.06.94-2.06 2.06-.94-2.06-.94-.94-2.06-.94 2.06-2.06.94z\"/><path d=\"M17.41 7.96l-1.37-1.37c-.4-.4-.92-.59-1.43-.59-.52 0-1.04.2-1.43.59L10.3 9.45l-7.72 7.72c-.78.78-.78 2.05 0 2.83L4 21.41c.39.39.9.59 1.41.59.51 0 1.02-.2 1.41-.59l7.78-7.78 2.81-2.81c.8-.78.8-2.07 0-2.86zM5.41 20L4 18.59l7.72-7.72 1.47 1.35L5.41 20z\"/>\n",
              "  </svg>\n",
              "      </button>\n",
              "      \n",
              "  <style>\n",
              "    .colab-df-container {\n",
              "      display:flex;\n",
              "      flex-wrap:wrap;\n",
              "      gap: 12px;\n",
              "    }\n",
              "\n",
              "    .colab-df-convert {\n",
              "      background-color: #E8F0FE;\n",
              "      border: none;\n",
              "      border-radius: 50%;\n",
              "      cursor: pointer;\n",
              "      display: none;\n",
              "      fill: #1967D2;\n",
              "      height: 32px;\n",
              "      padding: 0 0 0 0;\n",
              "      width: 32px;\n",
              "    }\n",
              "\n",
              "    .colab-df-convert:hover {\n",
              "      background-color: #E2EBFA;\n",
              "      box-shadow: 0px 1px 2px rgba(60, 64, 67, 0.3), 0px 1px 3px 1px rgba(60, 64, 67, 0.15);\n",
              "      fill: #174EA6;\n",
              "    }\n",
              "\n",
              "    [theme=dark] .colab-df-convert {\n",
              "      background-color: #3B4455;\n",
              "      fill: #D2E3FC;\n",
              "    }\n",
              "\n",
              "    [theme=dark] .colab-df-convert:hover {\n",
              "      background-color: #434B5C;\n",
              "      box-shadow: 0px 1px 3px 1px rgba(0, 0, 0, 0.15);\n",
              "      filter: drop-shadow(0px 1px 2px rgba(0, 0, 0, 0.3));\n",
              "      fill: #FFFFFF;\n",
              "    }\n",
              "  </style>\n",
              "\n",
              "      <script>\n",
              "        const buttonEl =\n",
              "          document.querySelector('#df-b147e7e8-8034-445b-a905-a3d24c67dfc4 button.colab-df-convert');\n",
              "        buttonEl.style.display =\n",
              "          google.colab.kernel.accessAllowed ? 'block' : 'none';\n",
              "\n",
              "        async function convertToInteractive(key) {\n",
              "          const element = document.querySelector('#df-b147e7e8-8034-445b-a905-a3d24c67dfc4');\n",
              "          const dataTable =\n",
              "            await google.colab.kernel.invokeFunction('convertToInteractive',\n",
              "                                                     [key], {});\n",
              "          if (!dataTable) return;\n",
              "\n",
              "          const docLinkHtml = 'Like what you see? Visit the ' +\n",
              "            '<a target=\"_blank\" href=https://colab.research.google.com/notebooks/data_table.ipynb>data table notebook</a>'\n",
              "            + ' to learn more about interactive tables.';\n",
              "          element.innerHTML = '';\n",
              "          dataTable['output_type'] = 'display_data';\n",
              "          await google.colab.output.renderOutput(dataTable, element);\n",
              "          const docLink = document.createElement('div');\n",
              "          docLink.innerHTML = docLinkHtml;\n",
              "          element.appendChild(docLink);\n",
              "        }\n",
              "      </script>\n",
              "    </div>\n",
              "  </div>\n",
              "  "
            ]
          },
          "metadata": {},
          "execution_count": 199
        }
      ]
    },
    {
      "cell_type": "markdown",
      "source": [
        "**There are no outliers as it seems every data point is valid**"
      ],
      "metadata": {
        "id": "27KzG_qupn4p"
      }
    },
    {
      "cell_type": "markdown",
      "source": [
        "###Feature Engineering"
      ],
      "metadata": {
        "id": "x0VqHLk7psWP"
      }
    },
    {
      "cell_type": "markdown",
      "source": [
        "There are no features which can be added up or derived from the existing features"
      ],
      "metadata": {
        "id": "g1BS5BGT0Zds"
      }
    },
    {
      "cell_type": "code",
      "source": [
        "# df=df2"
      ],
      "metadata": {
        "id": "G7EPl2Y97F1K"
      },
      "execution_count": 200,
      "outputs": []
    },
    {
      "cell_type": "markdown",
      "source": [
        "####Categorical Encoding"
      ],
      "metadata": {
        "id": "kIcLyMLr0irR"
      }
    },
    {
      "cell_type": "code",
      "source": [
        "from sklearn.preprocessing import OrdinalEncoder"
      ],
      "metadata": {
        "id": "rlDzSVozNpys"
      },
      "execution_count": 201,
      "outputs": []
    },
    {
      "cell_type": "code",
      "source": [
        "def feature_engineering(df,categorical_columns):\n",
        "  ordinal_encoding_columns=categorical_columns\n",
        "  for col in ordinal_encoding_columns:\n",
        "    from sklearn.preprocessing import OrdinalEncoder\n",
        "    enc = OrdinalEncoder()\n",
        "    df[[col]]=enc.fit_transform(df[[col]])\n",
        "    # df=pd.concat([df,pd.get_dummies(df[col],prefix=col).iloc[:,1:]],axis=1)\n",
        "    # df = pd.concat([df, pd.get_dummies(df[column]).iloc[: , 1:]], axis=1)\n",
        "  # df.drop(columns=ordinal_encoding_columns,inplace=True)\n",
        "  return df"
      ],
      "metadata": {
        "id": "bYXER_U9pUAO"
      },
      "execution_count": 202,
      "outputs": []
    },
    {
      "cell_type": "code",
      "source": [
        "for i in categorical_columns:\n",
        "  # print([i])\n",
        "  df=feature_engineering(df,[i])\n",
        "  # df.head()"
      ],
      "metadata": {
        "id": "9d0ty5aP3zxO"
      },
      "execution_count": 203,
      "outputs": []
    },
    {
      "cell_type": "code",
      "source": [
        "df"
      ],
      "metadata": {
        "colab": {
          "base_uri": "https://localhost:8080/",
          "height": 424
        },
        "id": "BFdDBiwC7DEB",
        "outputId": "5e145721-8c08-4bc6-cb02-5b82825aa9a5"
      },
      "execution_count": 204,
      "outputs": [
        {
          "output_type": "execute_result",
          "data": {
            "text/plain": [
              "     GRE Score  TOEFL Score  University Rating  SOP  LOR  CGPA  Research  \\\n",
              "0        337.0        118.0                3.0  7.0  7.0  9.65       1.0   \n",
              "1        324.0        107.0                3.0  6.0  7.0  8.87       1.0   \n",
              "2        316.0        104.0                2.0  4.0  5.0  8.00       1.0   \n",
              "3        322.0        110.0                2.0  5.0  3.0  8.67       1.0   \n",
              "4        314.0        103.0                1.0  2.0  4.0  8.21       0.0   \n",
              "..         ...          ...                ...  ...  ...   ...       ...   \n",
              "495      332.0        108.0                4.0  7.0  6.0  9.02       1.0   \n",
              "496      337.0        117.0                4.0  8.0  8.0  9.87       1.0   \n",
              "497      330.0        120.0                4.0  7.0  8.0  9.56       1.0   \n",
              "498      312.0        103.0                3.0  6.0  8.0  8.43       0.0   \n",
              "499      327.0        113.0                3.0  7.0  7.0  9.04       0.0   \n",
              "\n",
              "     Chance of Admit  \n",
              "0               0.92  \n",
              "1               0.76  \n",
              "2               0.72  \n",
              "3               0.80  \n",
              "4               0.65  \n",
              "..               ...  \n",
              "495             0.87  \n",
              "496             0.96  \n",
              "497             0.93  \n",
              "498             0.73  \n",
              "499             0.84  \n",
              "\n",
              "[500 rows x 8 columns]"
            ],
            "text/html": [
              "\n",
              "  <div id=\"df-d6ae91b0-bb24-4f2d-8693-59b8e12a3a27\">\n",
              "    <div class=\"colab-df-container\">\n",
              "      <div>\n",
              "<style scoped>\n",
              "    .dataframe tbody tr th:only-of-type {\n",
              "        vertical-align: middle;\n",
              "    }\n",
              "\n",
              "    .dataframe tbody tr th {\n",
              "        vertical-align: top;\n",
              "    }\n",
              "\n",
              "    .dataframe thead th {\n",
              "        text-align: right;\n",
              "    }\n",
              "</style>\n",
              "<table border=\"1\" class=\"dataframe\">\n",
              "  <thead>\n",
              "    <tr style=\"text-align: right;\">\n",
              "      <th></th>\n",
              "      <th>GRE Score</th>\n",
              "      <th>TOEFL Score</th>\n",
              "      <th>University Rating</th>\n",
              "      <th>SOP</th>\n",
              "      <th>LOR</th>\n",
              "      <th>CGPA</th>\n",
              "      <th>Research</th>\n",
              "      <th>Chance of Admit</th>\n",
              "    </tr>\n",
              "  </thead>\n",
              "  <tbody>\n",
              "    <tr>\n",
              "      <th>0</th>\n",
              "      <td>337.0</td>\n",
              "      <td>118.0</td>\n",
              "      <td>3.0</td>\n",
              "      <td>7.0</td>\n",
              "      <td>7.0</td>\n",
              "      <td>9.65</td>\n",
              "      <td>1.0</td>\n",
              "      <td>0.92</td>\n",
              "    </tr>\n",
              "    <tr>\n",
              "      <th>1</th>\n",
              "      <td>324.0</td>\n",
              "      <td>107.0</td>\n",
              "      <td>3.0</td>\n",
              "      <td>6.0</td>\n",
              "      <td>7.0</td>\n",
              "      <td>8.87</td>\n",
              "      <td>1.0</td>\n",
              "      <td>0.76</td>\n",
              "    </tr>\n",
              "    <tr>\n",
              "      <th>2</th>\n",
              "      <td>316.0</td>\n",
              "      <td>104.0</td>\n",
              "      <td>2.0</td>\n",
              "      <td>4.0</td>\n",
              "      <td>5.0</td>\n",
              "      <td>8.00</td>\n",
              "      <td>1.0</td>\n",
              "      <td>0.72</td>\n",
              "    </tr>\n",
              "    <tr>\n",
              "      <th>3</th>\n",
              "      <td>322.0</td>\n",
              "      <td>110.0</td>\n",
              "      <td>2.0</td>\n",
              "      <td>5.0</td>\n",
              "      <td>3.0</td>\n",
              "      <td>8.67</td>\n",
              "      <td>1.0</td>\n",
              "      <td>0.80</td>\n",
              "    </tr>\n",
              "    <tr>\n",
              "      <th>4</th>\n",
              "      <td>314.0</td>\n",
              "      <td>103.0</td>\n",
              "      <td>1.0</td>\n",
              "      <td>2.0</td>\n",
              "      <td>4.0</td>\n",
              "      <td>8.21</td>\n",
              "      <td>0.0</td>\n",
              "      <td>0.65</td>\n",
              "    </tr>\n",
              "    <tr>\n",
              "      <th>...</th>\n",
              "      <td>...</td>\n",
              "      <td>...</td>\n",
              "      <td>...</td>\n",
              "      <td>...</td>\n",
              "      <td>...</td>\n",
              "      <td>...</td>\n",
              "      <td>...</td>\n",
              "      <td>...</td>\n",
              "    </tr>\n",
              "    <tr>\n",
              "      <th>495</th>\n",
              "      <td>332.0</td>\n",
              "      <td>108.0</td>\n",
              "      <td>4.0</td>\n",
              "      <td>7.0</td>\n",
              "      <td>6.0</td>\n",
              "      <td>9.02</td>\n",
              "      <td>1.0</td>\n",
              "      <td>0.87</td>\n",
              "    </tr>\n",
              "    <tr>\n",
              "      <th>496</th>\n",
              "      <td>337.0</td>\n",
              "      <td>117.0</td>\n",
              "      <td>4.0</td>\n",
              "      <td>8.0</td>\n",
              "      <td>8.0</td>\n",
              "      <td>9.87</td>\n",
              "      <td>1.0</td>\n",
              "      <td>0.96</td>\n",
              "    </tr>\n",
              "    <tr>\n",
              "      <th>497</th>\n",
              "      <td>330.0</td>\n",
              "      <td>120.0</td>\n",
              "      <td>4.0</td>\n",
              "      <td>7.0</td>\n",
              "      <td>8.0</td>\n",
              "      <td>9.56</td>\n",
              "      <td>1.0</td>\n",
              "      <td>0.93</td>\n",
              "    </tr>\n",
              "    <tr>\n",
              "      <th>498</th>\n",
              "      <td>312.0</td>\n",
              "      <td>103.0</td>\n",
              "      <td>3.0</td>\n",
              "      <td>6.0</td>\n",
              "      <td>8.0</td>\n",
              "      <td>8.43</td>\n",
              "      <td>0.0</td>\n",
              "      <td>0.73</td>\n",
              "    </tr>\n",
              "    <tr>\n",
              "      <th>499</th>\n",
              "      <td>327.0</td>\n",
              "      <td>113.0</td>\n",
              "      <td>3.0</td>\n",
              "      <td>7.0</td>\n",
              "      <td>7.0</td>\n",
              "      <td>9.04</td>\n",
              "      <td>0.0</td>\n",
              "      <td>0.84</td>\n",
              "    </tr>\n",
              "  </tbody>\n",
              "</table>\n",
              "<p>500 rows × 8 columns</p>\n",
              "</div>\n",
              "      <button class=\"colab-df-convert\" onclick=\"convertToInteractive('df-d6ae91b0-bb24-4f2d-8693-59b8e12a3a27')\"\n",
              "              title=\"Convert this dataframe to an interactive table.\"\n",
              "              style=\"display:none;\">\n",
              "        \n",
              "  <svg xmlns=\"http://www.w3.org/2000/svg\" height=\"24px\"viewBox=\"0 0 24 24\"\n",
              "       width=\"24px\">\n",
              "    <path d=\"M0 0h24v24H0V0z\" fill=\"none\"/>\n",
              "    <path d=\"M18.56 5.44l.94 2.06.94-2.06 2.06-.94-2.06-.94-.94-2.06-.94 2.06-2.06.94zm-11 1L8.5 8.5l.94-2.06 2.06-.94-2.06-.94L8.5 2.5l-.94 2.06-2.06.94zm10 10l.94 2.06.94-2.06 2.06-.94-2.06-.94-.94-2.06-.94 2.06-2.06.94z\"/><path d=\"M17.41 7.96l-1.37-1.37c-.4-.4-.92-.59-1.43-.59-.52 0-1.04.2-1.43.59L10.3 9.45l-7.72 7.72c-.78.78-.78 2.05 0 2.83L4 21.41c.39.39.9.59 1.41.59.51 0 1.02-.2 1.41-.59l7.78-7.78 2.81-2.81c.8-.78.8-2.07 0-2.86zM5.41 20L4 18.59l7.72-7.72 1.47 1.35L5.41 20z\"/>\n",
              "  </svg>\n",
              "      </button>\n",
              "      \n",
              "  <style>\n",
              "    .colab-df-container {\n",
              "      display:flex;\n",
              "      flex-wrap:wrap;\n",
              "      gap: 12px;\n",
              "    }\n",
              "\n",
              "    .colab-df-convert {\n",
              "      background-color: #E8F0FE;\n",
              "      border: none;\n",
              "      border-radius: 50%;\n",
              "      cursor: pointer;\n",
              "      display: none;\n",
              "      fill: #1967D2;\n",
              "      height: 32px;\n",
              "      padding: 0 0 0 0;\n",
              "      width: 32px;\n",
              "    }\n",
              "\n",
              "    .colab-df-convert:hover {\n",
              "      background-color: #E2EBFA;\n",
              "      box-shadow: 0px 1px 2px rgba(60, 64, 67, 0.3), 0px 1px 3px 1px rgba(60, 64, 67, 0.15);\n",
              "      fill: #174EA6;\n",
              "    }\n",
              "\n",
              "    [theme=dark] .colab-df-convert {\n",
              "      background-color: #3B4455;\n",
              "      fill: #D2E3FC;\n",
              "    }\n",
              "\n",
              "    [theme=dark] .colab-df-convert:hover {\n",
              "      background-color: #434B5C;\n",
              "      box-shadow: 0px 1px 3px 1px rgba(0, 0, 0, 0.15);\n",
              "      filter: drop-shadow(0px 1px 2px rgba(0, 0, 0, 0.3));\n",
              "      fill: #FFFFFF;\n",
              "    }\n",
              "  </style>\n",
              "\n",
              "      <script>\n",
              "        const buttonEl =\n",
              "          document.querySelector('#df-d6ae91b0-bb24-4f2d-8693-59b8e12a3a27 button.colab-df-convert');\n",
              "        buttonEl.style.display =\n",
              "          google.colab.kernel.accessAllowed ? 'block' : 'none';\n",
              "\n",
              "        async function convertToInteractive(key) {\n",
              "          const element = document.querySelector('#df-d6ae91b0-bb24-4f2d-8693-59b8e12a3a27');\n",
              "          const dataTable =\n",
              "            await google.colab.kernel.invokeFunction('convertToInteractive',\n",
              "                                                     [key], {});\n",
              "          if (!dataTable) return;\n",
              "\n",
              "          const docLinkHtml = 'Like what you see? Visit the ' +\n",
              "            '<a target=\"_blank\" href=https://colab.research.google.com/notebooks/data_table.ipynb>data table notebook</a>'\n",
              "            + ' to learn more about interactive tables.';\n",
              "          element.innerHTML = '';\n",
              "          dataTable['output_type'] = 'display_data';\n",
              "          await google.colab.output.renderOutput(dataTable, element);\n",
              "          const docLink = document.createElement('div');\n",
              "          docLink.innerHTML = docLinkHtml;\n",
              "          element.appendChild(docLink);\n",
              "        }\n",
              "      </script>\n",
              "    </div>\n",
              "  </div>\n",
              "  "
            ]
          },
          "metadata": {},
          "execution_count": 204
        }
      ]
    },
    {
      "cell_type": "code",
      "source": [
        "df.columns"
      ],
      "metadata": {
        "colab": {
          "base_uri": "https://localhost:8080/"
        },
        "id": "zKrevpIH4-Dd",
        "outputId": "587e8f71-5d25-4939-9870-605591a3c424"
      },
      "execution_count": 205,
      "outputs": [
        {
          "output_type": "execute_result",
          "data": {
            "text/plain": [
              "Index(['GRE Score', 'TOEFL Score', 'University Rating', 'SOP', 'LOR', 'CGPA',\n",
              "       'Research', 'Chance of Admit'],\n",
              "      dtype='object')"
            ]
          },
          "metadata": {},
          "execution_count": 205
        }
      ]
    },
    {
      "cell_type": "markdown",
      "source": [
        "####Scaling"
      ],
      "metadata": {
        "id": "82WkHtRc9B7T"
      }
    },
    {
      "cell_type": "code",
      "source": [
        "# from sklearn.preprocessing import MinMaxScaler, StandardScaler"
      ],
      "metadata": {
        "id": "zAM1ATm-2abg"
      },
      "execution_count": 206,
      "outputs": []
    },
    {
      "cell_type": "code",
      "source": [
        "# scaler = StandardScaler()\n",
        "# df = pd.DataFrame(scaler.fit_transform(df), columns=df.columns)\n",
        "# df"
      ],
      "metadata": {
        "id": "GqKfcGW26a9X"
      },
      "execution_count": 207,
      "outputs": []
    },
    {
      "cell_type": "code",
      "source": [
        "# for i in df.columns:\n",
        "#   print(df[i].max(),df[i].min())"
      ],
      "metadata": {
        "id": "HChOE5lA9LHj"
      },
      "execution_count": 208,
      "outputs": []
    },
    {
      "cell_type": "code",
      "source": [
        "final_df=df\n",
        "final_df.head()"
      ],
      "metadata": {
        "colab": {
          "base_uri": "https://localhost:8080/",
          "height": 206
        },
        "id": "8kMES46g9VOs",
        "outputId": "12aed54b-b27f-4629-c1a1-a1149f506474"
      },
      "execution_count": 209,
      "outputs": [
        {
          "output_type": "execute_result",
          "data": {
            "text/plain": [
              "   GRE Score  TOEFL Score  University Rating  SOP  LOR  CGPA  Research  \\\n",
              "0      337.0        118.0                3.0  7.0  7.0  9.65       1.0   \n",
              "1      324.0        107.0                3.0  6.0  7.0  8.87       1.0   \n",
              "2      316.0        104.0                2.0  4.0  5.0  8.00       1.0   \n",
              "3      322.0        110.0                2.0  5.0  3.0  8.67       1.0   \n",
              "4      314.0        103.0                1.0  2.0  4.0  8.21       0.0   \n",
              "\n",
              "   Chance of Admit  \n",
              "0             0.92  \n",
              "1             0.76  \n",
              "2             0.72  \n",
              "3             0.80  \n",
              "4             0.65  "
            ],
            "text/html": [
              "\n",
              "  <div id=\"df-d8f4a380-3ed6-4b69-90ce-8f62b5bb3f47\">\n",
              "    <div class=\"colab-df-container\">\n",
              "      <div>\n",
              "<style scoped>\n",
              "    .dataframe tbody tr th:only-of-type {\n",
              "        vertical-align: middle;\n",
              "    }\n",
              "\n",
              "    .dataframe tbody tr th {\n",
              "        vertical-align: top;\n",
              "    }\n",
              "\n",
              "    .dataframe thead th {\n",
              "        text-align: right;\n",
              "    }\n",
              "</style>\n",
              "<table border=\"1\" class=\"dataframe\">\n",
              "  <thead>\n",
              "    <tr style=\"text-align: right;\">\n",
              "      <th></th>\n",
              "      <th>GRE Score</th>\n",
              "      <th>TOEFL Score</th>\n",
              "      <th>University Rating</th>\n",
              "      <th>SOP</th>\n",
              "      <th>LOR</th>\n",
              "      <th>CGPA</th>\n",
              "      <th>Research</th>\n",
              "      <th>Chance of Admit</th>\n",
              "    </tr>\n",
              "  </thead>\n",
              "  <tbody>\n",
              "    <tr>\n",
              "      <th>0</th>\n",
              "      <td>337.0</td>\n",
              "      <td>118.0</td>\n",
              "      <td>3.0</td>\n",
              "      <td>7.0</td>\n",
              "      <td>7.0</td>\n",
              "      <td>9.65</td>\n",
              "      <td>1.0</td>\n",
              "      <td>0.92</td>\n",
              "    </tr>\n",
              "    <tr>\n",
              "      <th>1</th>\n",
              "      <td>324.0</td>\n",
              "      <td>107.0</td>\n",
              "      <td>3.0</td>\n",
              "      <td>6.0</td>\n",
              "      <td>7.0</td>\n",
              "      <td>8.87</td>\n",
              "      <td>1.0</td>\n",
              "      <td>0.76</td>\n",
              "    </tr>\n",
              "    <tr>\n",
              "      <th>2</th>\n",
              "      <td>316.0</td>\n",
              "      <td>104.0</td>\n",
              "      <td>2.0</td>\n",
              "      <td>4.0</td>\n",
              "      <td>5.0</td>\n",
              "      <td>8.00</td>\n",
              "      <td>1.0</td>\n",
              "      <td>0.72</td>\n",
              "    </tr>\n",
              "    <tr>\n",
              "      <th>3</th>\n",
              "      <td>322.0</td>\n",
              "      <td>110.0</td>\n",
              "      <td>2.0</td>\n",
              "      <td>5.0</td>\n",
              "      <td>3.0</td>\n",
              "      <td>8.67</td>\n",
              "      <td>1.0</td>\n",
              "      <td>0.80</td>\n",
              "    </tr>\n",
              "    <tr>\n",
              "      <th>4</th>\n",
              "      <td>314.0</td>\n",
              "      <td>103.0</td>\n",
              "      <td>1.0</td>\n",
              "      <td>2.0</td>\n",
              "      <td>4.0</td>\n",
              "      <td>8.21</td>\n",
              "      <td>0.0</td>\n",
              "      <td>0.65</td>\n",
              "    </tr>\n",
              "  </tbody>\n",
              "</table>\n",
              "</div>\n",
              "      <button class=\"colab-df-convert\" onclick=\"convertToInteractive('df-d8f4a380-3ed6-4b69-90ce-8f62b5bb3f47')\"\n",
              "              title=\"Convert this dataframe to an interactive table.\"\n",
              "              style=\"display:none;\">\n",
              "        \n",
              "  <svg xmlns=\"http://www.w3.org/2000/svg\" height=\"24px\"viewBox=\"0 0 24 24\"\n",
              "       width=\"24px\">\n",
              "    <path d=\"M0 0h24v24H0V0z\" fill=\"none\"/>\n",
              "    <path d=\"M18.56 5.44l.94 2.06.94-2.06 2.06-.94-2.06-.94-.94-2.06-.94 2.06-2.06.94zm-11 1L8.5 8.5l.94-2.06 2.06-.94-2.06-.94L8.5 2.5l-.94 2.06-2.06.94zm10 10l.94 2.06.94-2.06 2.06-.94-2.06-.94-.94-2.06-.94 2.06-2.06.94z\"/><path d=\"M17.41 7.96l-1.37-1.37c-.4-.4-.92-.59-1.43-.59-.52 0-1.04.2-1.43.59L10.3 9.45l-7.72 7.72c-.78.78-.78 2.05 0 2.83L4 21.41c.39.39.9.59 1.41.59.51 0 1.02-.2 1.41-.59l7.78-7.78 2.81-2.81c.8-.78.8-2.07 0-2.86zM5.41 20L4 18.59l7.72-7.72 1.47 1.35L5.41 20z\"/>\n",
              "  </svg>\n",
              "      </button>\n",
              "      \n",
              "  <style>\n",
              "    .colab-df-container {\n",
              "      display:flex;\n",
              "      flex-wrap:wrap;\n",
              "      gap: 12px;\n",
              "    }\n",
              "\n",
              "    .colab-df-convert {\n",
              "      background-color: #E8F0FE;\n",
              "      border: none;\n",
              "      border-radius: 50%;\n",
              "      cursor: pointer;\n",
              "      display: none;\n",
              "      fill: #1967D2;\n",
              "      height: 32px;\n",
              "      padding: 0 0 0 0;\n",
              "      width: 32px;\n",
              "    }\n",
              "\n",
              "    .colab-df-convert:hover {\n",
              "      background-color: #E2EBFA;\n",
              "      box-shadow: 0px 1px 2px rgba(60, 64, 67, 0.3), 0px 1px 3px 1px rgba(60, 64, 67, 0.15);\n",
              "      fill: #174EA6;\n",
              "    }\n",
              "\n",
              "    [theme=dark] .colab-df-convert {\n",
              "      background-color: #3B4455;\n",
              "      fill: #D2E3FC;\n",
              "    }\n",
              "\n",
              "    [theme=dark] .colab-df-convert:hover {\n",
              "      background-color: #434B5C;\n",
              "      box-shadow: 0px 1px 3px 1px rgba(0, 0, 0, 0.15);\n",
              "      filter: drop-shadow(0px 1px 2px rgba(0, 0, 0, 0.3));\n",
              "      fill: #FFFFFF;\n",
              "    }\n",
              "  </style>\n",
              "\n",
              "      <script>\n",
              "        const buttonEl =\n",
              "          document.querySelector('#df-d8f4a380-3ed6-4b69-90ce-8f62b5bb3f47 button.colab-df-convert');\n",
              "        buttonEl.style.display =\n",
              "          google.colab.kernel.accessAllowed ? 'block' : 'none';\n",
              "\n",
              "        async function convertToInteractive(key) {\n",
              "          const element = document.querySelector('#df-d8f4a380-3ed6-4b69-90ce-8f62b5bb3f47');\n",
              "          const dataTable =\n",
              "            await google.colab.kernel.invokeFunction('convertToInteractive',\n",
              "                                                     [key], {});\n",
              "          if (!dataTable) return;\n",
              "\n",
              "          const docLinkHtml = 'Like what you see? Visit the ' +\n",
              "            '<a target=\"_blank\" href=https://colab.research.google.com/notebooks/data_table.ipynb>data table notebook</a>'\n",
              "            + ' to learn more about interactive tables.';\n",
              "          element.innerHTML = '';\n",
              "          dataTable['output_type'] = 'display_data';\n",
              "          await google.colab.output.renderOutput(dataTable, element);\n",
              "          const docLink = document.createElement('div');\n",
              "          docLink.innerHTML = docLinkHtml;\n",
              "          element.appendChild(docLink);\n",
              "        }\n",
              "      </script>\n",
              "    </div>\n",
              "  </div>\n",
              "  "
            ]
          },
          "metadata": {},
          "execution_count": 209
        }
      ]
    },
    {
      "cell_type": "markdown",
      "source": [
        "####X and Y separation"
      ],
      "metadata": {
        "id": "SyP1b0mCqw-G"
      }
    },
    {
      "cell_type": "code",
      "source": [
        "X = final_df[final_df.columns.drop('Chance of Admit')]\n",
        "Y = final_df[\"Chance of Admit\"]"
      ],
      "metadata": {
        "id": "xUoYqaay-M5v"
      },
      "execution_count": 210,
      "outputs": []
    },
    {
      "cell_type": "code",
      "source": [
        "from sklearn.model_selection import train_test_split\n",
        "X_train, X_test, Y_train, Y_test = train_test_split(X, Y, test_size=0.2, random_state=1)"
      ],
      "metadata": {
        "id": "V2o26p-3rTjI"
      },
      "execution_count": 211,
      "outputs": []
    },
    {
      "cell_type": "code",
      "source": [
        "X_train,X_test"
      ],
      "metadata": {
        "colab": {
          "base_uri": "https://localhost:8080/"
        },
        "id": "LWytCvtMxbIg",
        "outputId": "eeb7cfd8-52ff-4c7a-ad52-19611f23929e"
      },
      "execution_count": 212,
      "outputs": [
        {
          "output_type": "execute_result",
          "data": {
            "text/plain": [
              "(     GRE Score  TOEFL Score  University Rating  SOP  LOR  CGPA  Research\n",
              " 238      310.0        104.0                2.0  2.0  5.0  8.37       0.0\n",
              " 438      318.0        110.0                0.0  3.0  5.0  8.54       1.0\n",
              " 475      300.0        101.0                2.0  5.0  3.0  7.88       0.0\n",
              " 58       300.0         99.0                0.0  4.0  2.0  6.80       1.0\n",
              " 380      322.0        104.0                2.0  5.0  6.0  8.84       1.0\n",
              " ..         ...          ...                ...  ...  ...   ...       ...\n",
              " 255      307.0        110.0                3.0  6.0  7.0  8.37       0.0\n",
              " 72       321.0        111.0                4.0  8.0  8.0  9.45       1.0\n",
              " 396      325.0        107.0                2.0  4.0  5.0  9.11       1.0\n",
              " 235      326.0        111.0                4.0  7.0  6.0  9.23       1.0\n",
              " 37       300.0        105.0                0.0  0.0  2.0  7.80       0.0\n",
              " \n",
              " [400 rows x 7 columns],\n",
              "      GRE Score  TOEFL Score  University Rating  SOP  LOR  CGPA  Research\n",
              " 304      313.0        106.0                1.0  3.0  2.0  8.43       0.0\n",
              " 340      312.0        107.0                2.0  4.0  4.0  8.46       1.0\n",
              " 47       339.0        119.0                4.0  7.0  6.0  9.70       0.0\n",
              " 67       316.0        107.0                1.0  5.0  5.0  8.64       1.0\n",
              " 479      325.0        110.0                3.0  7.0  6.0  8.96       1.0\n",
              " ..         ...          ...                ...  ...  ...   ...       ...\n",
              " 11       327.0        111.0                3.0  6.0  7.0  9.00       1.0\n",
              " 192      322.0        114.0                4.0  7.0  6.0  8.94       1.0\n",
              " 92       298.0         98.0                1.0  6.0  4.0  8.03       0.0\n",
              " 221      316.0        110.0                2.0  5.0  6.0  8.56       0.0\n",
              " 110      305.0        108.0                4.0  4.0  4.0  8.48       0.0\n",
              " \n",
              " [100 rows x 7 columns])"
            ]
          },
          "metadata": {},
          "execution_count": 212
        }
      ]
    },
    {
      "cell_type": "code",
      "source": [
        "Y_train, Y_test"
      ],
      "metadata": {
        "colab": {
          "base_uri": "https://localhost:8080/"
        },
        "id": "7RxkI6Kp3LuF",
        "outputId": "4dcdd831-b0f4-43be-9ba5-4c5f590b7128"
      },
      "execution_count": 213,
      "outputs": [
        {
          "output_type": "execute_result",
          "data": {
            "text/plain": [
              "(238    0.70\n",
              " 438    0.67\n",
              " 475    0.59\n",
              " 58     0.36\n",
              " 380    0.78\n",
              "        ... \n",
              " 255    0.79\n",
              " 72     0.93\n",
              " 396    0.84\n",
              " 235    0.88\n",
              " 37     0.58\n",
              " Name: Chance of Admit, Length: 400, dtype: float64, 304    0.62\n",
              " 340    0.75\n",
              " 47     0.89\n",
              " 67     0.57\n",
              " 479    0.79\n",
              "        ... \n",
              " 11     0.84\n",
              " 192    0.86\n",
              " 92     0.34\n",
              " 221    0.75\n",
              " 110    0.61\n",
              " Name: Chance of Admit, Length: 100, dtype: float64)"
            ]
          },
          "metadata": {},
          "execution_count": 213
        }
      ]
    },
    {
      "cell_type": "markdown",
      "source": [
        "##Model Building"
      ],
      "metadata": {
        "id": "vr8iJHZCBblT"
      }
    },
    {
      "cell_type": "code",
      "source": [
        "# Scaling\n",
        "\n",
        "from sklearn.preprocessing import StandardScaler\n",
        "\n",
        "scaler = StandardScaler()\n",
        "scaler.fit(X_train)\n",
        "X_train_standardized = scaler.transform(X_train)\n",
        "X_test_standardized = scaler.transform(X_test)"
      ],
      "metadata": {
        "id": "HYNmMLEH6meC"
      },
      "execution_count": 214,
      "outputs": []
    },
    {
      "cell_type": "code",
      "source": [
        "X_train_standardized"
      ],
      "metadata": {
        "colab": {
          "base_uri": "https://localhost:8080/"
        },
        "id": "E05PMor6Ia3U",
        "outputId": "4f994ac2-14e1-43c3-ef68-64e92ee098ed"
      },
      "execution_count": 215,
      "outputs": [
        {
          "output_type": "execute_result",
          "data": {
            "text/plain": [
              "array([[-0.53736015, -0.51949116, -0.05463584, ...,  0.00933125,\n",
              "        -0.32658176, -1.11114215],\n",
              "       [ 0.16363964,  0.44925692, -1.8029826 , ...,  0.00933125,\n",
              "        -0.04593523,  0.89997486],\n",
              "       [-1.41360989, -1.0038652 , -0.05463584, ..., -1.05709751,\n",
              "        -1.13550409, -1.11114215],\n",
              "       ...,\n",
              "       [ 0.77701445, -0.03511712, -0.05463584, ...,  0.00933125,\n",
              "         0.89505605,  0.89997486],\n",
              "       [ 0.86463943,  0.61071493,  1.69371093, ...,  0.54254563,\n",
              "         1.09315948,  0.89997486],\n",
              "       [-1.41360989, -0.35803314, -1.8029826 , ..., -1.59031189,\n",
              "        -1.26757304, -1.11114215]])"
            ]
          },
          "metadata": {},
          "execution_count": 215
        }
      ]
    },
    {
      "cell_type": "code",
      "source": [
        "from sklearn.linear_model import LinearRegression\n",
        "\n",
        "model=LinearRegression()\n",
        "model.fit(X_train_standardized,Y_train)\n",
        "\n",
        "output=model.predict(X_test_standardized)\n",
        "\n",
        "model.coef_,model.intercept_\n"
      ],
      "metadata": {
        "colab": {
          "base_uri": "https://localhost:8080/"
        },
        "id": "QdEOn9Bd_iXK",
        "outputId": "ba57b379-3d38-4cc4-b8b2-657d86b2c378"
      },
      "execution_count": 216,
      "outputs": [
        {
          "output_type": "execute_result",
          "data": {
            "text/plain": [
              "(array([0.02091007, 0.01965792, 0.00701103, 0.00304937, 0.01352815,\n",
              "        0.07069295, 0.00988992]), 0.7209250000000001)"
            ]
          },
          "metadata": {},
          "execution_count": 216
        }
      ]
    },
    {
      "cell_type": "code",
      "source": [
        "model.score(X_train_standardized,Y_train)"
      ],
      "metadata": {
        "colab": {
          "base_uri": "https://localhost:8080/"
        },
        "id": "nt94wpOZAM98",
        "outputId": "18e06cd5-818e-496b-f82d-4bd16150bd93"
      },
      "execution_count": 217,
      "outputs": [
        {
          "output_type": "execute_result",
          "data": {
            "text/plain": [
              "0.8215099192361265"
            ]
          },
          "metadata": {},
          "execution_count": 217
        }
      ]
    },
    {
      "cell_type": "code",
      "source": [
        "model.score(X_test_standardized,Y_test)"
      ],
      "metadata": {
        "colab": {
          "base_uri": "https://localhost:8080/"
        },
        "id": "W5PllnYNAAap",
        "outputId": "f00943d1-571e-415a-9b16-6c9404c36a30"
      },
      "execution_count": 218,
      "outputs": [
        {
          "output_type": "execute_result",
          "data": {
            "text/plain": [
              "0.8208741703103731"
            ]
          },
          "metadata": {},
          "execution_count": 218
        }
      ]
    },
    {
      "cell_type": "code",
      "source": [
        "# poly=PolynomialFeatures(2)\n",
        "\n",
        "# X_train_2=poly.fit_transform(X_train)\n",
        "# X_train_2\n",
        "# scaler = StandardScaler()\n",
        "# scaler.fit(X_train_2)\n",
        "# X_train_2_standardized = scaler.transform(X_train_2)\n"
      ],
      "metadata": {
        "id": "PjOuNavlPMMF"
      },
      "execution_count": 219,
      "outputs": []
    },
    {
      "cell_type": "code",
      "source": [
        "# X_train_2.shape"
      ],
      "metadata": {
        "id": "GyWz_3pURCq8"
      },
      "execution_count": 220,
      "outputs": []
    },
    {
      "cell_type": "code",
      "source": [
        "import statsmodels.api as sm\n",
        "X_train_1=pd.DataFrame(X_train_standardized, columns=X_train.columns)\n",
        "X_train_1.set_index(pd.Index(X_train.index),inplace=True)\n",
        "# Y_train_1=pd.DataFrame(Y_train,columns=['Chance of Admit']).reset_index().iloc[:,1]\n",
        "\n",
        "X_sm = sm.add_constant(X_train_1)  #Statmodels default is without intercept, to add intercept we need to add constant \n",
        "\n",
        "sm_model = sm.OLS(Y_train, X_sm).fit()"
      ],
      "metadata": {
        "colab": {
          "base_uri": "https://localhost:8080/"
        },
        "id": "AEQbWt5OCKJ4",
        "outputId": "b5ba55f4-44cb-4415-c16f-083c247d77e1"
      },
      "execution_count": 221,
      "outputs": [
        {
          "output_type": "stream",
          "name": "stderr",
          "text": [
            "/usr/local/lib/python3.7/dist-packages/statsmodels/tsa/tsatools.py:142: FutureWarning: In a future version of pandas all arguments of concat except for the argument 'objs' will be keyword-only\n",
            "  x = pd.concat(x[::order], 1)\n"
          ]
        }
      ]
    },
    {
      "cell_type": "markdown",
      "source": [
        "#### Model statistics & coefficients"
      ],
      "metadata": {
        "id": "h96bjiqWSPG2"
      }
    },
    {
      "cell_type": "code",
      "source": [
        "print(sm_model.summary())"
      ],
      "metadata": {
        "colab": {
          "base_uri": "https://localhost:8080/"
        },
        "id": "zY6FzwJHC78L",
        "outputId": "ea5b6e66-6564-462d-955d-d8538043399b"
      },
      "execution_count": 222,
      "outputs": [
        {
          "output_type": "stream",
          "name": "stdout",
          "text": [
            "                            OLS Regression Results                            \n",
            "==============================================================================\n",
            "Dep. Variable:        Chance of Admit   R-squared:                       0.822\n",
            "Model:                            OLS   Adj. R-squared:                  0.818\n",
            "Method:                 Least Squares   F-statistic:                     257.7\n",
            "Date:                Tue, 01 Nov 2022   Prob (F-statistic):          2.10e-142\n",
            "Time:                        07:09:31   Log-Likelihood:                 559.27\n",
            "No. Observations:                 400   AIC:                            -1103.\n",
            "Df Residuals:                     392   BIC:                            -1071.\n",
            "Df Model:                           7                                         \n",
            "Covariance Type:            nonrobust                                         \n",
            "=====================================================================================\n",
            "                        coef    std err          t      P>|t|      [0.025      0.975]\n",
            "-------------------------------------------------------------------------------------\n",
            "const                 0.7209      0.003    238.778      0.000       0.715       0.727\n",
            "GRE Score             0.0209      0.007      3.135      0.002       0.008       0.034\n",
            "TOEFL Score           0.0197      0.006      3.156      0.002       0.007       0.032\n",
            "University Rating     0.0070      0.005      1.387      0.166      -0.003       0.017\n",
            "SOP                   0.0030      0.005      0.591      0.555      -0.007       0.013\n",
            "LOR                   0.0135      0.004      3.105      0.002       0.005       0.022\n",
            "CGPA                  0.0707      0.007     10.743      0.000       0.058       0.084\n",
            "Research              0.0099      0.004      2.668      0.008       0.003       0.017\n",
            "==============================================================================\n",
            "Omnibus:                       80.594   Durbin-Watson:                   1.932\n",
            "Prob(Omnibus):                  0.000   Jarque-Bera (JB):              167.116\n",
            "Skew:                          -1.064   Prob(JB):                     5.14e-37\n",
            "Kurtosis:                       5.346   Cond. No.                         5.92\n",
            "==============================================================================\n",
            "\n",
            "Notes:\n",
            "[1] Standard Errors assume that the covariance matrix of the errors is correctly specified.\n"
          ]
        }
      ]
    },
    {
      "cell_type": "markdown",
      "source": [
        "**From the model coefficients and the t statistic values only GRE, TOEFL, LOR, CGPA, Research features are important**"
      ],
      "metadata": {
        "id": "cpARfqLjMgEa"
      }
    },
    {
      "cell_type": "code",
      "source": [
        "from sklearn.preprocessing import PolynomialFeatures\n",
        "from sklearn.pipeline import make_pipeline\n",
        "from sklearn.preprocessing import StandardScaler\n",
        "from sklearn.linear_model import LinearRegression\n",
        "\n",
        "degrees = 6 # number of data-points\n",
        "train_scores = []\n",
        "test_scores = []\n",
        "for degree in range(1, degrees):\n",
        "  scaler = StandardScaler()\n",
        "  polyreg_scaled = make_pipeline(PolynomialFeatures(degree), scaler, LinearRegression())\n",
        "  polyreg_scaled.fit(X_train, Y_train)\n",
        "  train_score = polyreg_scaled.score(X_train, Y_train)\n",
        "  test_score = polyreg_scaled.score(X_test, Y_test)\n",
        "  train_scores.append(train_score)\n",
        "  test_scores.append(test_score)"
      ],
      "metadata": {
        "id": "MEa6XwYqw5d1"
      },
      "execution_count": 223,
      "outputs": []
    },
    {
      "cell_type": "code",
      "source": [
        "train_scores,test_scores"
      ],
      "metadata": {
        "colab": {
          "base_uri": "https://localhost:8080/"
        },
        "id": "oOFKGjBE40Uo",
        "outputId": "7893cbd6-303c-4c7f-d9a5-a64b0182a85b"
      },
      "execution_count": 224,
      "outputs": [
        {
          "output_type": "execute_result",
          "data": {
            "text/plain": [
              "([0.8215099192361265,\n",
              "  0.8372870402475172,\n",
              "  0.7894587469834955,\n",
              "  0.6622897051187593,\n",
              "  1.0],\n",
              " [0.8208741703103731,\n",
              "  0.8237964531405697,\n",
              "  0.48668364921591045,\n",
              "  -9.303401405360034,\n",
              "  -183.52056018729255])"
            ]
          },
          "metadata": {},
          "execution_count": 224
        }
      ]
    },
    {
      "cell_type": "markdown",
      "source": [
        "**By just increasing the degree the r2 score is decreasing and its negative, i.e. it is performing worst than the dumb model**\n",
        "\n",
        "**From the test scores, the best model is 2 degree model and train, test performance is slightly better than degree 1 model**"
      ],
      "metadata": {
        "id": "ND_asHsrAYAY"
      }
    },
    {
      "cell_type": "markdown",
      "source": [
        "####Lasso and Ridge Regression"
      ],
      "metadata": {
        "id": "fTucM_pQWcx1"
      }
    },
    {
      "cell_type": "code",
      "source": [
        "from sklearn import linear_model\n",
        "model_train_scores=[]\n",
        "model_test_scores=[]\n",
        "model_coefs=[]\n",
        "model_intercepts=[]\n",
        "\n",
        "alphas=[0.1,0.05,0.01,0.005,0.001,0.0005,0.0001]\n",
        "for i in alphas:\n",
        "  model=linear_model.Lasso(alpha=i)\n",
        "  model.fit(X_train_standardized,Y_train)\n",
        "  output=model.predict(X_test_standardized)\n",
        "  model_coefs.append(model.coef_)\n",
        "  model_intercepts.append(model.intercept_)\n",
        "  model_train_scores.append(model.score(X_train_standardized,Y_train))\n",
        "  model_test_scores.append(model.score(X_test_standardized,Y_test))\n",
        "\n",
        "max_score_alpha_index=np.argmax(model_test_scores)\n",
        "alpha=alphas[max_score_alpha_index]\n",
        "model_test_scores[max_score_alpha_index],model_coefs[max_score_alpha_index],model_intercepts[max_score_alpha_index] \n",
        "\n"
      ],
      "metadata": {
        "colab": {
          "base_uri": "https://localhost:8080/"
        },
        "id": "wcbqj1oTW6yM",
        "outputId": "d8210879-646f-430c-c955-bc6cbe94fcb9"
      },
      "execution_count": 225,
      "outputs": [
        {
          "output_type": "execute_result",
          "data": {
            "text/plain": [
              "(0.8207818227394215,\n",
              " array([0.02089882, 0.01962888, 0.006992  , 0.00302528, 0.01348122,\n",
              "        0.07071527, 0.00983233]),\n",
              " 0.7209250000000001)"
            ]
          },
          "metadata": {},
          "execution_count": 225
        }
      ]
    },
    {
      "cell_type": "code",
      "source": [
        "from sklearn import linear_model\n",
        "model_train_scores=[]\n",
        "model_test_scores=[]\n",
        "model_coefs=[]\n",
        "model_intercepts=[]\n",
        "\n",
        "alphas=[0.1,0.05,0.01,0.005,0.001,0.0005,0.0001]\n",
        "for i in alphas:\n",
        "  model=linear_model.Ridge(alpha=i)\n",
        "  model.fit(X_train_standardized,Y_train)\n",
        "  output=model.predict(X_test_standardized)\n",
        "  model_coefs.append(model.coef_)\n",
        "  model_intercepts.append(model.intercept_)\n",
        "  model_train_scores.append(model.score(X_train_standardized,Y_train))\n",
        "  model_test_scores.append(model.score(X_test_standardized,Y_test))\n",
        "\n",
        "max_score_alpha_index=np.argmax(model_test_scores)\n",
        "alpha=alphas[max_score_alpha_index]\n",
        "model_test_scores[max_score_alpha_index],model_coefs[max_score_alpha_index],model_intercepts[max_score_alpha_index]"
      ],
      "metadata": {
        "colab": {
          "base_uri": "https://localhost:8080/"
        },
        "id": "aFpqGR-vcyuG",
        "outputId": "975343bc-6862-4aaa-e378-62ac91e09e9d"
      },
      "execution_count": 226,
      "outputs": [
        {
          "output_type": "execute_result",
          "data": {
            "text/plain": [
              "(0.8208741602027321,\n",
              " array([0.02091009, 0.01965794, 0.00701104, 0.00304938, 0.01352815,\n",
              "        0.07069288, 0.00988992]),\n",
              " 0.7209250000000001)"
            ]
          },
          "metadata": {},
          "execution_count": 226
        }
      ]
    },
    {
      "cell_type": "markdown",
      "source": [
        "##Testing Linear regression assumptions"
      ],
      "metadata": {
        "id": "zt0NlDLzeVDp"
      }
    },
    {
      "cell_type": "markdown",
      "source": [
        "####Multicollinearity"
      ],
      "metadata": {
        "id": "e-uOEG7oeaWL"
      }
    },
    {
      "cell_type": "code",
      "execution_count": 227,
      "metadata": {
        "id": "kbcapTpSsvnU"
      },
      "outputs": [],
      "source": [
        "# VIF \n",
        "from statsmodels.stats.outliers_influence import variance_inflation_factor"
      ]
    },
    {
      "cell_type": "code",
      "execution_count": 228,
      "metadata": {
        "colab": {
          "base_uri": "https://localhost:8080/",
          "height": 269
        },
        "id": "HqykuJqjsvk-",
        "outputId": "6e018e1c-6fa3-4957-8a6f-2ff3a3422564"
      },
      "outputs": [
        {
          "output_type": "execute_result",
          "data": {
            "text/plain": [
              "            Features   VIF\n",
              "0          GRE Score  4.88\n",
              "5               CGPA  4.75\n",
              "1        TOEFL Score  4.26\n",
              "3                SOP  2.92\n",
              "2  University Rating  2.80\n",
              "4                LOR  2.08\n",
              "6           Research  1.51"
            ],
            "text/html": [
              "\n",
              "  <div id=\"df-d4a04810-4a3c-46c1-8163-ea67fcac878f\">\n",
              "    <div class=\"colab-df-container\">\n",
              "      <div>\n",
              "<style scoped>\n",
              "    .dataframe tbody tr th:only-of-type {\n",
              "        vertical-align: middle;\n",
              "    }\n",
              "\n",
              "    .dataframe tbody tr th {\n",
              "        vertical-align: top;\n",
              "    }\n",
              "\n",
              "    .dataframe thead th {\n",
              "        text-align: right;\n",
              "    }\n",
              "</style>\n",
              "<table border=\"1\" class=\"dataframe\">\n",
              "  <thead>\n",
              "    <tr style=\"text-align: right;\">\n",
              "      <th></th>\n",
              "      <th>Features</th>\n",
              "      <th>VIF</th>\n",
              "    </tr>\n",
              "  </thead>\n",
              "  <tbody>\n",
              "    <tr>\n",
              "      <th>0</th>\n",
              "      <td>GRE Score</td>\n",
              "      <td>4.88</td>\n",
              "    </tr>\n",
              "    <tr>\n",
              "      <th>5</th>\n",
              "      <td>CGPA</td>\n",
              "      <td>4.75</td>\n",
              "    </tr>\n",
              "    <tr>\n",
              "      <th>1</th>\n",
              "      <td>TOEFL Score</td>\n",
              "      <td>4.26</td>\n",
              "    </tr>\n",
              "    <tr>\n",
              "      <th>3</th>\n",
              "      <td>SOP</td>\n",
              "      <td>2.92</td>\n",
              "    </tr>\n",
              "    <tr>\n",
              "      <th>2</th>\n",
              "      <td>University Rating</td>\n",
              "      <td>2.80</td>\n",
              "    </tr>\n",
              "    <tr>\n",
              "      <th>4</th>\n",
              "      <td>LOR</td>\n",
              "      <td>2.08</td>\n",
              "    </tr>\n",
              "    <tr>\n",
              "      <th>6</th>\n",
              "      <td>Research</td>\n",
              "      <td>1.51</td>\n",
              "    </tr>\n",
              "  </tbody>\n",
              "</table>\n",
              "</div>\n",
              "      <button class=\"colab-df-convert\" onclick=\"convertToInteractive('df-d4a04810-4a3c-46c1-8163-ea67fcac878f')\"\n",
              "              title=\"Convert this dataframe to an interactive table.\"\n",
              "              style=\"display:none;\">\n",
              "        \n",
              "  <svg xmlns=\"http://www.w3.org/2000/svg\" height=\"24px\"viewBox=\"0 0 24 24\"\n",
              "       width=\"24px\">\n",
              "    <path d=\"M0 0h24v24H0V0z\" fill=\"none\"/>\n",
              "    <path d=\"M18.56 5.44l.94 2.06.94-2.06 2.06-.94-2.06-.94-.94-2.06-.94 2.06-2.06.94zm-11 1L8.5 8.5l.94-2.06 2.06-.94-2.06-.94L8.5 2.5l-.94 2.06-2.06.94zm10 10l.94 2.06.94-2.06 2.06-.94-2.06-.94-.94-2.06-.94 2.06-2.06.94z\"/><path d=\"M17.41 7.96l-1.37-1.37c-.4-.4-.92-.59-1.43-.59-.52 0-1.04.2-1.43.59L10.3 9.45l-7.72 7.72c-.78.78-.78 2.05 0 2.83L4 21.41c.39.39.9.59 1.41.59.51 0 1.02-.2 1.41-.59l7.78-7.78 2.81-2.81c.8-.78.8-2.07 0-2.86zM5.41 20L4 18.59l7.72-7.72 1.47 1.35L5.41 20z\"/>\n",
              "  </svg>\n",
              "      </button>\n",
              "      \n",
              "  <style>\n",
              "    .colab-df-container {\n",
              "      display:flex;\n",
              "      flex-wrap:wrap;\n",
              "      gap: 12px;\n",
              "    }\n",
              "\n",
              "    .colab-df-convert {\n",
              "      background-color: #E8F0FE;\n",
              "      border: none;\n",
              "      border-radius: 50%;\n",
              "      cursor: pointer;\n",
              "      display: none;\n",
              "      fill: #1967D2;\n",
              "      height: 32px;\n",
              "      padding: 0 0 0 0;\n",
              "      width: 32px;\n",
              "    }\n",
              "\n",
              "    .colab-df-convert:hover {\n",
              "      background-color: #E2EBFA;\n",
              "      box-shadow: 0px 1px 2px rgba(60, 64, 67, 0.3), 0px 1px 3px 1px rgba(60, 64, 67, 0.15);\n",
              "      fill: #174EA6;\n",
              "    }\n",
              "\n",
              "    [theme=dark] .colab-df-convert {\n",
              "      background-color: #3B4455;\n",
              "      fill: #D2E3FC;\n",
              "    }\n",
              "\n",
              "    [theme=dark] .colab-df-convert:hover {\n",
              "      background-color: #434B5C;\n",
              "      box-shadow: 0px 1px 3px 1px rgba(0, 0, 0, 0.15);\n",
              "      filter: drop-shadow(0px 1px 2px rgba(0, 0, 0, 0.3));\n",
              "      fill: #FFFFFF;\n",
              "    }\n",
              "  </style>\n",
              "\n",
              "      <script>\n",
              "        const buttonEl =\n",
              "          document.querySelector('#df-d4a04810-4a3c-46c1-8163-ea67fcac878f button.colab-df-convert');\n",
              "        buttonEl.style.display =\n",
              "          google.colab.kernel.accessAllowed ? 'block' : 'none';\n",
              "\n",
              "        async function convertToInteractive(key) {\n",
              "          const element = document.querySelector('#df-d4a04810-4a3c-46c1-8163-ea67fcac878f');\n",
              "          const dataTable =\n",
              "            await google.colab.kernel.invokeFunction('convertToInteractive',\n",
              "                                                     [key], {});\n",
              "          if (!dataTable) return;\n",
              "\n",
              "          const docLinkHtml = 'Like what you see? Visit the ' +\n",
              "            '<a target=\"_blank\" href=https://colab.research.google.com/notebooks/data_table.ipynb>data table notebook</a>'\n",
              "            + ' to learn more about interactive tables.';\n",
              "          element.innerHTML = '';\n",
              "          dataTable['output_type'] = 'display_data';\n",
              "          await google.colab.output.renderOutput(dataTable, element);\n",
              "          const docLink = document.createElement('div');\n",
              "          docLink.innerHTML = docLinkHtml;\n",
              "          element.appendChild(docLink);\n",
              "        }\n",
              "      </script>\n",
              "    </div>\n",
              "  </div>\n",
              "  "
            ]
          },
          "metadata": {},
          "execution_count": 228
        }
      ],
      "source": [
        "vif = pd.DataFrame()\n",
        "X_t = pd.DataFrame(X_train_standardized)\n",
        "vif['Features'] = X_train.columns\n",
        "vif['VIF'] = [variance_inflation_factor(X_t.values, i) for i in range(X_t.shape[1])]\n",
        "vif['VIF'] = round(vif['VIF'], 2)\n",
        "vif = vif.sort_values(by = \"VIF\", ascending = False)\n",
        "vif"
      ]
    },
    {
      "cell_type": "markdown",
      "source": [
        "**There is no relation between the variables and one variable cannot be explained interms of linear relationship with another variable**"
      ],
      "metadata": {
        "id": "l5G65I0HiY_C"
      }
    },
    {
      "cell_type": "markdown",
      "source": [
        "####Mean of residuals"
      ],
      "metadata": {
        "id": "kzKK3Ko_iouw"
      }
    },
    {
      "cell_type": "code",
      "source": [
        "np.mean(output-Y_test)"
      ],
      "metadata": {
        "colab": {
          "base_uri": "https://localhost:8080/"
        },
        "id": "ykGNAdsHiOCm",
        "outputId": "ba789de3-b13e-4962-83c9-6ce7bdcb60bb"
      },
      "execution_count": 229,
      "outputs": [
        {
          "output_type": "execute_result",
          "data": {
            "text/plain": [
              "0.0057065916355365405"
            ]
          },
          "metadata": {},
          "execution_count": 229
        }
      ]
    },
    {
      "cell_type": "markdown",
      "source": [
        "**The mean of residuals is almost zero**"
      ],
      "metadata": {
        "id": "PARNvBsujKDz"
      }
    },
    {
      "cell_type": "code",
      "source": [
        "plt.scatter(x=np.array(range(1,101)),y=output-Y_test)\n",
        "plt.plot(np.array(range(1,101)),[np.mean(output-Y_test)]*100)\n",
        "plt.ylabel('residuals')\n",
        "plt.show()"
      ],
      "metadata": {
        "colab": {
          "base_uri": "https://localhost:8080/",
          "height": 266
        },
        "id": "xUzvQo8Li08Q",
        "outputId": "57ce2f8b-084d-4409-d20b-b0af26bf8f28"
      },
      "execution_count": 230,
      "outputs": [
        {
          "output_type": "display_data",
          "data": {
            "text/plain": [
              "<Figure size 432x288 with 1 Axes>"
            ],
            "image/png": "[encoded data removed]"
          },
          "metadata": {
            "needs_background": "light"
          }
        }
      ]
    },
    {
      "cell_type": "markdown",
      "source": [
        "####linearity of variables"
      ],
      "metadata": {
        "id": "c4uWrjcNsCMl"
      }
    },
    {
      "cell_type": "code",
      "source": [
        "plt.scatter(Y_test,output)\n",
        "# plt.show()\n",
        "min=np.min([Y_test.min(),output.min()])\n",
        "max=np.max([Y_test.max(),output.max()])\n",
        "plt.plot(np.arange(min,max,0.1),np.arange(min,max,0.1))\n",
        "plt.xlabel('Y_test/Actual')\n",
        "plt.ylabel('Y_predicted')\n",
        "plt.show()"
      ],
      "metadata": {
        "colab": {
          "base_uri": "https://localhost:8080/",
          "height": 280
        },
        "id": "WeM3TzlSrzA6",
        "outputId": "2ad6b16f-dc86-466f-f3b0-80775d424a23"
      },
      "execution_count": 231,
      "outputs": [
        {
          "output_type": "display_data",
          "data": {
            "text/plain": [
              "<Figure size 432x288 with 1 Axes>"
            ],
            "image/png": "[encoded data removed]"
          },
          "metadata": {
            "needs_background": "light"
          }
        }
      ]
    },
    {
      "cell_type": "markdown",
      "source": [
        "####Test for Homoscedasticity"
      ],
      "metadata": {
        "id": "HLlZsZkv199R"
      }
    },
    {
      "cell_type": "code",
      "source": [
        "plt.scatter(x=np.array(range(1,101)),y=output-Y_test)\n",
        "plt.plot(np.array(range(1,101)),[0]*100)\n",
        "plt.ylabel('residuals')\n",
        "plt.show()"
      ],
      "metadata": {
        "colab": {
          "base_uri": "https://localhost:8080/",
          "height": 266
        },
        "id": "f98xIRp3zPuq",
        "outputId": "9b2b6509-4429-45a3-c755-34771ddfe13e"
      },
      "execution_count": 232,
      "outputs": [
        {
          "output_type": "display_data",
          "data": {
            "text/plain": [
              "<Figure size 432x288 with 1 Axes>"
            ],
            "image/png": "[encoded data removed]"
          },
          "metadata": {
            "needs_background": "light"
          }
        }
      ]
    },
    {
      "cell_type": "markdown",
      "source": [
        "**There is almost constant variance**"
      ],
      "metadata": {
        "id": "YhRq6bQV3UiT"
      }
    },
    {
      "cell_type": "markdown",
      "source": [
        "#### normality test"
      ],
      "metadata": {
        "id": "z-m20Q8U4beL"
      }
    },
    {
      "cell_type": "code",
      "source": [
        "residuals=output-Y_test.values"
      ],
      "metadata": {
        "id": "6e6ZmYoL37np"
      },
      "execution_count": 233,
      "outputs": []
    },
    {
      "cell_type": "code",
      "source": [
        "residuals"
      ],
      "metadata": {
        "colab": {
          "base_uri": "https://localhost:8080/"
        },
        "id": "0JdN1Ly84vXT",
        "outputId": "a3c59cc2-30aa-4520-96c7-7d7c1ccb1a6a"
      },
      "execution_count": 234,
      "outputs": [
        {
          "output_type": "execute_result",
          "data": {
            "text/plain": [
              "array([ 0.0336446 , -0.04956458,  0.05400882,  0.16135824,  0.02719181,\n",
              "       -0.03486292, -0.01453783, -0.02601738,  0.01873126,  0.01653774,\n",
              "       -0.05116827, -0.07784847,  0.07221604,  0.18560119,  0.03166887,\n",
              "       -0.02222985, -0.01081707, -0.0280355 , -0.02251413, -0.0781899 ,\n",
              "       -0.01156232,  0.01390015,  0.00201561,  0.0621447 ,  0.23876323,\n",
              "        0.17881676,  0.0116178 ,  0.0643678 , -0.0297299 , -0.00917237,\n",
              "       -0.09665905,  0.02502109, -0.04226249, -0.00953971,  0.01791175,\n",
              "       -0.02185026, -0.01279872, -0.0167956 , -0.00043886, -0.01830191,\n",
              "       -0.06427282, -0.07921251, -0.00765546,  0.01095741, -0.02819392,\n",
              "        0.09235569, -0.01301546, -0.01970124,  0.04362777,  0.04061795,\n",
              "        0.02352994, -0.02148646, -0.02172766,  0.03929822, -0.02166665,\n",
              "        0.10295764,  0.01767252, -0.01665377,  0.00940838, -0.0435315 ,\n",
              "        0.01763511, -0.03813362, -0.02692968, -0.01087016,  0.02015561,\n",
              "       -0.03945118, -0.02813741, -0.03604971,  0.00143225,  0.03255514,\n",
              "       -0.01717428, -0.01586437, -0.0058379 , -0.04895047,  0.01578893,\n",
              "        0.0273677 , -0.03319921,  0.02078815, -0.02880435, -0.05131571,\n",
              "       -0.03523384,  0.05992061, -0.01416081,  0.02936356,  0.0191012 ,\n",
              "       -0.02330458, -0.0422213 , -0.04313355,  0.02515505, -0.01924291,\n",
              "       -0.02077154, -0.01882737,  0.05122537, -0.04264278,  0.07039988,\n",
              "       -0.00559074, -0.03181442,  0.23302224, -0.02500381,  0.07548566])"
            ]
          },
          "metadata": {},
          "execution_count": 234
        }
      ]
    },
    {
      "cell_type": "code",
      "source": [
        "sns.distplot(residuals)"
      ],
      "metadata": {
        "colab": {
          "base_uri": "https://localhost:8080/",
          "height": 337
        },
        "id": "RspkiTlz4I6m",
        "outputId": "c148d076-ad1d-49bb-e856-2cde95749c97"
      },
      "execution_count": 235,
      "outputs": [
        {
          "output_type": "stream",
          "name": "stderr",
          "text": [
            "/usr/local/lib/python3.7/dist-packages/seaborn/distributions.py:2619: FutureWarning: `distplot` is a deprecated function and will be removed in a future version. Please adapt your code to use either `displot` (a figure-level function with similar flexibility) or `histplot` (an axes-level function for histograms).\n",
            "  warnings.warn(msg, FutureWarning)\n"
          ]
        },
        {
          "output_type": "execute_result",
          "data": {
            "text/plain": [
              "<matplotlib.axes._subplots.AxesSubplot at 0x7fc4ff6f3450>"
            ]
          },
          "metadata": {},
          "execution_count": 235
        },
        {
          "output_type": "display_data",
          "data": {
            "text/plain": [
              "<Figure size 432x288 with 1 Axes>"
            ],
            "image/png": "[encoded data removed]"
          },
          "metadata": {
            "needs_background": "light"
          }
        }
      ]
    },
    {
      "cell_type": "code",
      "source": [
        "import statsmodels.api as sm\n",
        "fig = sm.qqplot(residuals, line='45', fit=True)\n",
        "plt.grid()"
      ],
      "metadata": {
        "colab": {
          "base_uri": "https://localhost:8080/",
          "height": 279
        },
        "id": "ZA1_GZ633Q1H",
        "outputId": "d9719ffd-3378-424d-f58f-d4b6be9dd807"
      },
      "execution_count": 236,
      "outputs": [
        {
          "output_type": "display_data",
          "data": {
            "text/plain": [
              "<Figure size 432x288 with 1 Axes>"
            ],
            "image/png": "[encoded data removed]"
          },
          "metadata": {
            "needs_background": "light"
          }
        }
      ]
    },
    {
      "cell_type": "markdown",
      "source": [
        "**Its not following normal distribution**\n"
      ],
      "metadata": {
        "id": "_n3fpQKc45ZX"
      }
    },
    {
      "cell_type": "markdown",
      "source": [
        "##Model performance evaluation"
      ],
      "metadata": {
        "id": "OnHl-QvN5zCC"
      }
    },
    {
      "cell_type": "code",
      "source": [
        "# R2 scoe for train\n",
        "model.score(X_train_standardized,Y_train)       # for simple linear regrssionmodel"
      ],
      "metadata": {
        "colab": {
          "base_uri": "https://localhost:8080/"
        },
        "outputId": "c62d07cb-c69d-4300-a30d-239df5b116a8",
        "id": "mJ7M09Q08lit"
      },
      "execution_count": 237,
      "outputs": [
        {
          "output_type": "execute_result",
          "data": {
            "text/plain": [
              "0.8215099192360797"
            ]
          },
          "metadata": {},
          "execution_count": 237
        }
      ]
    },
    {
      "cell_type": "code",
      "source": [
        "# R2 scoe for test\n",
        "model.score(X_test_standardized,Y_test)       # for simple linear regrssionmodel"
      ],
      "metadata": {
        "colab": {
          "base_uri": "https://localhost:8080/"
        },
        "outputId": "1afb24a1-1dd3-49a1-b5f6-a581a9a44dfc",
        "id": "yqT4KNsl8liu"
      },
      "execution_count": 238,
      "outputs": [
        {
          "output_type": "execute_result",
          "data": {
            "text/plain": [
              "0.8208741602027321"
            ]
          },
          "metadata": {},
          "execution_count": 238
        }
      ]
    },
    {
      "cell_type": "code",
      "source": [
        "#Adjusted R2 score\n",
        "\n",
        "1 - (1-model.score(X_train_standardized, Y_train))*(len(Y_train)-1)/(len(Y_train)-X.shape[1]-1)"
      ],
      "metadata": {
        "colab": {
          "base_uri": "https://localhost:8080/"
        },
        "id": "mb_2Ry7D6z4w",
        "outputId": "1a23eaa2-a322-482c-da56-9ef4bff08b67"
      },
      "execution_count": 239,
      "outputs": [
        {
          "output_type": "execute_result",
          "data": {
            "text/plain": [
              "0.8183225963652955"
            ]
          },
          "metadata": {},
          "execution_count": 239
        }
      ]
    },
    {
      "cell_type": "code",
      "source": [
        "np.mean((output-Y_test)**2)"
      ],
      "metadata": {
        "colab": {
          "base_uri": "https://localhost:8080/"
        },
        "id": "GpZ1pniF9bn7",
        "outputId": "04f7ca8c-1ab6-454d-cc18-e719d463a8ae"
      },
      "execution_count": 240,
      "outputs": [
        {
          "output_type": "execute_result",
          "data": {
            "text/plain": [
              "0.00345909909232504"
            ]
          },
          "metadata": {},
          "execution_count": 240
        }
      ]
    },
    {
      "cell_type": "code",
      "source": [
        "# # MSE\n",
        "# from sklearn.metrics import mean_squared_error\n",
        "# mean_squared_error(Y_test, output)"
      ],
      "metadata": {
        "id": "9AdWBbUb9Ej9"
      },
      "execution_count": 241,
      "outputs": []
    },
    {
      "cell_type": "code",
      "source": [
        "# MAE\n",
        "np.mean(abs(output-Y_test))"
      ],
      "metadata": {
        "colab": {
          "base_uri": "https://localhost:8080/"
        },
        "id": "S1slLW1y9oi6",
        "outputId": "fa6c8a40-0bb8-420f-c56f-df323c0cc25a"
      },
      "execution_count": 242,
      "outputs": [
        {
          "output_type": "execute_result",
          "data": {
            "text/plain": [
              "0.04020019665553464"
            ]
          },
          "metadata": {},
          "execution_count": 242
        }
      ]
    },
    {
      "cell_type": "markdown",
      "source": [
        "###Final comments"
      ],
      "metadata": {
        "id": "odBDloq496aZ"
      }
    },
    {
      "cell_type": "markdown",
      "source": [
        "**By considering R2 score, normality test, Linear regression is not best option we need another model to predict even better**"
      ],
      "metadata": {
        "id": "O4o0v30r6Nnw"
      }
    },
    {
      "cell_type": "markdown",
      "source": [
        "##Actionable Insights and recommendations"
      ],
      "metadata": {
        "id": "6xZ5Ndri-Rmr"
      }
    },
    {
      "cell_type": "markdown",
      "source": [
        "**1. Among all the variables, the CGPA, GRE score, TOEFL score, LOR, Research are the major predictors and among all CGPA having highest weightage to predict.**\n",
        "\n",
        "**2. With the given attributes and data, the model performance is moderate. We require even more data points or other attributes like Graduation comleted year, course opted in university, discipline of the candidate, graduated college of the candidate**\n",
        "\n",
        "**3. With linear regression model, the test assumption of normal residuals is failed, and r2 score is also around 0.82, so, we need even more better model (with degree 2 the r2 score slightly increased, but not to a great extent)**\n",
        "\n",
        "**4.There are much benefits if we predict out exactly, One can start eductaional training or coaching w.r.t GRE, TOEFL and also provide materials or necessary info to students to help in cracking their exams or college admissions**\n",
        "\n",
        "**5.One can understand the flow of students who are willing to take up higher studies and plan online edtechs to fulfill their dreams**\n"
      ],
      "metadata": {
        "id": "mRpZwD2J-Xbu"
      }
    },
    {
      "cell_type": "code",
      "source": [],
      "metadata": {
        "id": "XYR-vO5b4DoZ"
      },
      "execution_count": 242,
      "outputs": []
    }
  ]
}